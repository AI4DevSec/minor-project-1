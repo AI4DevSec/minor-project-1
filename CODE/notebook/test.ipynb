{
 "cells": [
  {
   "cell_type": "markdown",
   "metadata": {},
   "source": [
    "Namaste Dosto! 👋\n",
    "\n",
    "Aapka swagat hai ek mast aur aasan adventure mein, jahan hum seekhenge ki computer data se baatein kaise karte hain aur faisle kaise lete hain! 🤖💡\n",
    "\n",
    "Socho agar aapke paas alag-alag flowers 🌸🌼🌻 hain aur aap unke size (jaise pattiyon ki lambai, chaudai) ko dekhkar batana chahte ho ki kaunsa flower kis tarah ka hai. Kya yeh cool hoga? Yes! Yahi hai Data Science ka ek chota sa part, aur hum ek khaas \"decision-maker\" machine banayenge jiska naam hai **Decision Tree**! 🌳\n",
    "\n",
    "Yeh notebook aapko step-by-step guide karegi, bilkul jaise aapka sabse best friend aapko game khelna sikha raha ho. Hum code likhenge 💻, data ko dekhenge 👀, usko saaf karenge ✨, uski tasveerein banayenge 🎨, aur finally, apna decision-maker model (Decision Tree) banayenge!\n",
    "\n",
    "Chalo shuru karte hain yeh exciting journey! 🚀"
   ]
  },
  {
   "cell_type": "markdown",
   "metadata": {},
   "source": [
    "---"
   ]
  },
  {
   "cell_type": "markdown",
   "metadata": {},
   "source": [
    "## 📚 Table of Contents\n",
    "\n",
    "1.  **Introduction:** Data Science ka Jaadu Kya Hai? ✨\n",
    "2.  **Chapter 1:** Saaman Jama Karna (Gathering Our Tools) 🛠️\n",
    "3.  **Chapter 2:** Apna Data Dhoondna (Finding Our Data) 📁\n",
    "4.  **Chapter 3:** Data ko Dekhna aur Samajhna (Looking at and Understanding Data - EDA) 👀\n",
    "    *   Pehli Nazar: Data ki Pehli Jhalak (Head)\n",
    "    *   Data ka Health Check: Jaankari Hasil Karna (Info)\n",
    "    *   Missing Pieces Dhoondna (Null Values)\n",
    "    *   Duplicate Entries Pakadna (Duplicates)\n",
    "    *   Data ki Summary: Main Baatein Jaanana (Describe)\n",
    "    *   Flowers Ginna: Kaun Kitne Hain? (Value Counts)\n",
    "5.  **Chapter 4:** Data ko Saaf Karna (Cleaning Data) ✨\n",
    "    *   Jo Zaroori Nahi, Use Hatana (Dropping 'Id')\n",
    "6.  **Chapter 5:** Data ki Tasveerein Banana (Making Pictures of Data - Visualization) 🎨\n",
    "    *   Data ka Album Dekhna (Pair Plot)\n",
    "    *   Outliers Dhoondna: Alag Thalag Numbers (Box Plot)\n",
    "7.  **Chapter 6:** Outliers ko Theek Karna (Fixing Outliers) 💪\n",
    "    *   Outliers Kya Hote Hain aur Unhein Kaise Pakdein?\n",
    "    *   Outliers ko Badalna (Replacing with Median)\n",
    "    *   Theek Hone ke Baad Dekhna\n",
    "8.  **Chapter 7:** Decision Tree kya hai? (What is a Decision Tree?) 🌳\n",
    "    *   Faisle Lene Wala Ped!\n",
    "9.  **Chapter 8:** Model ke liye Data Taiyaar Karna (Preparing Data for the Model) 🧩\n",
    "    *   Kisko Denge (Features - X) aur Kya Batana Hai (Target - Y)\n",
    "    *   Data ko Bantna: Sikhne aur Test Karne ke Liye (Train-Test Split)\n",
    "10. **Chapter 9:** Apna Decision Tree Model Banana aur Sikhana (Making and Training Our Decision Tree Model) 🏗️\n",
    "    *   Decision Tree Model Chunna\n",
    "    *   Model ko Sikhana (Fitting)\n",
    "11. **Chapter 10:** Model ko Test Karna (Testing the Model) ✅\n",
    "    *   Model se Poochna: Andaza Lagana (Prediction)\n",
    "    *   Kitna Sahi Tha? (Accuracy)\n",
    "    *   Kaunse Flowers Gaye Mix Up? (Confusion Matrix)\n",
    "    *   Confusion Matrix ko Colors mein Dekhna (Heatmap)\n",
    "12. **Chapter 11:** Apna Decision Tree Dekhna (Seeing Our Decision Tree) 🌲🖼️\n",
    "13. **Chapter 12:** Sabse Zaroori Cheezein Kya Thi? (What Were the Most Important Things?) 🥇\n",
    "14. **Glossary:** Zaroori Shabdon ka Matlab (Important Terms Explained) 📖\n",
    "15. **Summary:** Humne Kya Seekha aur Aage Kya? 🎉"
   ]
  },
  {
   "cell_type": "markdown",
   "metadata": {},
   "source": [
    "---"
   ]
  },
  {
   "cell_type": "markdown",
   "metadata": {},
   "source": [
    "## 🛠️ Chapter 1: Saaman Jama Karna (Gathering Our Tools)\n",
    "\n",
    "Koi bhi project shuru karne se pehle, humein apne tools ikatthe karne hote hain, right? Data Science mein, hamare tools hain **Python Libraries**. Libraries code ke bane-banaye packages hain, jinmein bohot saare useful functions hote hain. Imagine karo yeh magic wands hain! ✨\n",
    "\n",
    "Humein yeh tools chahiye:\n",
    "\n",
    "1.  **pandas:** Yeh hamara main tool hai data ko ek achhi table ke format mein rakhne aur us par kaam karne ke liye. Jaise aap apna homework ek notebook mein organize karte ho!\n",
    "2.  **numpy:** Yeh numbers aur calculations ke liye hai. Socho yeh hamara calculator ka super version hai.\n",
    "3.  **matplotlib.pyplot:** Yeh data ki tasveerein banane ke liye hai, jaise charts aur graphs. Data ko dekhkar samajhna aasan ho jaata hai!\n",
    "4.  **seaborn:** Yeh bhi graphs banane ke liye hai, but thoda aur khoobsurat aur complex graphs. Matplotlib ka thoda stylish dost!\n",
    "\n",
    "Yeh code libraries ko \"import\" karta hai, matlab hum unhein apne notebook mein istemaal karne ke liye ready kar rahe hain.\n",
    "\n",
    "```python\n",
    "import pandas as pd\n",
    "import numpy as np\n",
    "import matplotlib.pyplot as plt\n",
    "import seaborn as sns\n",
    "```\n",
    "\n",
    "**Yeh Code Kya Karta Hai Aur Kyun?**\n",
    "\n",
    "*   `import pandas as pd`: Iska matlab hai 'pandas' library lao aur usko ab se `pd` naam se bulana. `pd` shortcut hai.\n",
    "*   `import numpy as np`: 'numpy' library lao aur usko `np` naam do.\n",
    "*   `import matplotlib.pyplot as plt`: 'matplotlib' library ke andar se 'pyplot' hissa lao aur usko `plt` naam do.\n",
    "*   `import seaborn as sns`: 'seaborn' library lao aur usko `sns` naam do.\n",
    "\n",
    "Hum in shortcuts (`pd`, `np`, `plt`, `sns`) ka use karenge jab hum in libraries ke functions ko call karenge. Yeh sab tools hamare data science journey ke liye zaroori hain."
   ]
  },
  {
   "cell_type": "code",
   "execution_count": 2,
   "metadata": {},
   "outputs": [],
   "source": [
    "import pandas as pd\n",
    "import numpy as np\n",
    "import matplotlib.pyplot as plt\n",
    "import seaborn as sns"
   ]
  },
  {
   "cell_type": "markdown",
   "metadata": {},
   "source": [
    "---"
   ]
  },
  {
   "cell_type": "markdown",
   "metadata": {},
   "source": [
    "## 📁 Chapter 2: Apna Data Dhoondna (Finding Our Data)\n",
    "\n",
    "Tools ready hain? Ab data ko load karte hain. Data ek CSV file mein stored hai, jaise ek excel sheet hoti hai ya Google Sheet. `pandas` library is file ko padhkar hamare computer ki memory mein ek table jaisi cheez (jisko **DataFrame** kehte hain) bana dega.\n",
    "\n",
    "Hamara data file ka naam hai `data.csv` aur woh `../artifacts/raw/` path par hai. `..` ka matlab hai \"ek folder upar jao\"."
   ]
  },
  {
   "cell_type": "code",
   "execution_count": 3,
   "metadata": {},
   "outputs": [],
   "source": [
    "df = pd.read_csv(\"../artifacts/raw/data.csv\")"
   ]
  },
  {
   "cell_type": "markdown",
   "metadata": {},
   "source": [
    "**Yeh Code Kya Karta Hai Aur Kyun?**\n",
    "\n",
    "*   `pd.read_csv(...)`: `pandas` library (jisko hum `pd` naam se bula rahe hain) ke andar ek function hai `read_csv`. Yeh CSV files ko padhta hai.\n",
    "*   `\"../artifacts/raw/data.csv\"`: Yeh file ka path hai, matlab computer ko bata rahe hain ki data kahan rakha hai.\n",
    "*   `df = ...`: File se data padhne ke baad, usko ek variable mein store kar rahe hain jiska naam `df` hai. `df` stands for **DataFrame**, which is like our data table.\n",
    "\n",
    "Ab hamara sara data `df` naam ki table mein hai aur hum us par kaam kar sakte hain! ✅"
   ]
  },
  {
   "cell_type": "markdown",
   "metadata": {},
   "source": [
    "---"
   ]
  },
  {
   "cell_type": "markdown",
   "metadata": {},
   "source": [
    "## 👀 Chapter 3: Data ko Dekhna aur Samajhna (Looking at and Understanding Data - EDA)\n",
    "\n",
    "Data load ho gaya! Great! 👍 Ab hum is data ko thoda dekhenge aur samjhenge ki isme kya hai, yeh kaisa dikhta hai, koi gadbad toh nahi hai, etc. Is process ko **Exploratory Data Analysis (EDA)** kehte hain. Yeh bilkul aise hai jaise koi nayi game milne par aap usko dekhte ho, buttons check karte ho, aur rules padhte ho."
   ]
  },
  {
   "cell_type": "markdown",
   "metadata": {},
   "source": [
    "### Pehli Nazar: Data ki Pehli Jhalak (Head)"
   ]
  },
  {
   "cell_type": "code",
   "execution_count": null,
   "metadata": {},
   "outputs": [],
   "source": [
    "df.head()"
   ]
  },
  {
   "cell_type": "markdown",
   "metadata": {},
   "source": [
    "**Yeh Code Kya Karta Hai Aur Kyun?**\n",
    "\n",
    "*   `df.head()`: `df` jo hamara DataFrame hai, uske upar ke 5 rows dikhata hai. Agar aapko zyada rows dekhne hain, toh aap `df.head(10)` likh sakte hain.\n",
    "\n",
    "Is output se humein pata chalega ki hamare paas 'Id', 'SepalLengthCm', 'SepalWidthCm', 'PetalLengthCm', 'PetalWidthCm', aur 'Species' naam ke columns hain aur unmein numbers aur text data hai."
   ]
  },
  {
   "cell_type": "markdown",
   "metadata": {},
   "source": [
    "### Data ka Health Check: Jaankari Hasil Karna (Info)"
   ]
  },
  {
   "cell_type": "code",
   "execution_count": null,
   "metadata": {},
   "outputs": [],
   "source": [
    "df.info()"
   ]
  },
  {
   "cell_type": "markdown",
   "metadata": {},
   "source": [
    "**Yeh Code Kya Karta Hai Aur Kyun?**\n",
    "\n",
    "*   `df.info()`: Yeh DataFrame (`df`) ki general information deta hai. Yeh batata hai total kitne rows hain, kitne columns hain, har column ka naam, usme kitni values non-null hain (yani khali nahi hain), aur column ka data type (integer, float, object/text).\n",
    "\n",
    "Isse humein turant pata chal jayega ki sabhi columns mein same number of entries hain ya koi column mein missing data hai. Aur data types theek hain ya nahi."
   ]
  },
  {
   "cell_type": "markdown",
   "metadata": {},
   "source": [
    "### Missing Pieces Dhoondna (Null Values)"
   ]
  },
  {
   "cell_type": "code",
   "execution_count": null,
   "metadata": {},
   "outputs": [],
   "source": [
    "df.isnull().sum()"
   ]
  },
  {
   "cell_type": "markdown",
   "metadata": {},
   "source": [
    "**Yeh Code Kya Karta Hai Aur Kyun?**\n",
    "\n",
    "*   `df.isnull()`: Yeh check karta hai ki `df` mein kaunse cells `null` (missing) hain. Jahan `null` hai, wahan `True` aayega, jahan nahi hai wahan `False`.\n",
    "*   `.sum()`: Yeh `True` aur `False` ko count karta hai (True ko 1 aur False ko 0). Iska matlab hai ki har column mein kitne `True` hain, yani kitni missing values hain.\n",
    "\n",
    "Agar sabhi columns ke liye result 0 hai, toh data mein koi missing value nahi hai. Yay! 🎉"
   ]
  },
  {
   "cell_type": "markdown",
   "metadata": {},
   "source": [
    "### Duplicate Entries Pakadna (Duplicates)"
   ]
  },
  {
   "cell_type": "code",
   "execution_count": null,
   "metadata": {},
   "outputs": [],
   "source": [
    "df.duplicated().sum()"
   ]
  },
  {
   "cell_type": "markdown",
   "metadata": {},
   "source": [
    "**Yeh Code Kya Karta Hai Aur Kyun?**\n",
    "\n",
    "*   `df.duplicated()`: Yeh check karta hai ki kaunsi rows pehle aa chuki hain, matlab duplicate hain.\n",
    "*   `.sum()`: Duplicates ko count karta hai.\n",
    "\n",
    "Agar result 0 hai, matlab koi duplicate rows nahi hain. Awesome!"
   ]
  },
  {
   "cell_type": "markdown",
   "metadata": {},
   "source": [
    "### Data ki Summary: Main Baatein Jaanana (Describe)"
   ]
  },
  {
   "cell_type": "code",
   "execution_count": null,
   "metadata": {},
   "outputs": [],
   "source": [
    "df.describe()"
   ]
  },
  {
   "cell_type": "markdown",
   "metadata": {},
   "source": [
    "**Yeh Code Kya Karta Hai Aur Kyun?**\n",
    "\n",
    "*   `df.describe()`: Numeric columns ki summary statistics dikhata hai. Jaise:\n",
    "    *   `count`: Kitne numbers hain column mein.\n",
    "    *   `mean`: Average value.\n",
    "    *   `std`: Standard Deviation (data numbers average se kitne door hain, spread).\n",
    "    *   `min`: Sabse choti value.\n",
    "    *   `25% (Q1)`: 25th percentile (25% data isse chota hai).\n",
    "    *   `50% (Median)`: 50th percentile (middle value, 50% data isse chota aur 50% bada hai).\n",
    "    *   `75% (Q3)`: 75th percentile (75% data isse chota hai).\n",
    "    *   `max`: Sabse badi value.\n",
    "\n",
    "Isse humein data ki range, average value, aur data ka distribution ka idea lagta hai. Agar min ya max values bohot hi ajeeb lag rahi hain, toh ho sakta hai wahan **outliers** hon (jinhein hum aage dekhenge)."
   ]
  },
  {
   "cell_type": "markdown",
   "metadata": {},
   "source": [
    "### Flowers Ginna: Kaun Kitne Hain? (Value Counts)"
   ]
  },
  {
   "cell_type": "code",
   "execution_count": null,
   "metadata": {},
   "outputs": [],
   "source": [
    "df[\"Species\"].value_counts()"
   ]
  },
  {
   "cell_type": "markdown",
   "metadata": {},
   "source": [
    "**Yeh Code Kya Karta Hai Aur Kyun?**\n",
    "\n",
    "*   `df[\"Species\"]`: DataFrame `df` mein se sirf 'Species' column ko select karta hai.\n",
    "*   `.value_counts()`: Us column mein har unique value (har species naam) ko count karta hai aur batata hai ki woh kitni baar aaya hai.\n",
    "\n",
    "Isse humein pata chalta hai ki data mein alag-alag species ka distribution kaisa hai. Iris dataset mein usually har species ke 50-50 entries hoti hain."
   ]
  },
  {
   "cell_type": "markdown",
   "metadata": {},
   "source": [
    "---"
   ]
  },
  {
   "cell_type": "markdown",
   "metadata": {},
   "source": [
    "## ✨ Chapter 4: Data ko Saaf Karna (Cleaning Data)\n",
    "\n",
    "EDA se humein pata chala ki data kaisa dikhta hai aur usme kya problems ho sakti hain (jaise missing values ya duplicates - hamare case mein yeh nahi hain, but ho sakte the). Ab hum data ko thoda saaf karenge machine learning model ke liye."
   ]
  },
  {
   "cell_type": "markdown",
   "metadata": {},
   "source": [
    "### Jo Zaroori Nahi, Use Hatana (Dropping 'Id')"
   ]
  },
  {
   "cell_type": "markdown",
   "metadata": {},
   "source": [
    "'Id' column har flower ke liye bas ek number hai jo usko identify karta hai. Machine learning model ko flower ki species batane ke liye is number ki zaroorat nahi hai. Yeh bas ek pehchan hai, features (measurements) nahi. Isliye hum is column ko hata denge."
   ]
  },
  {
   "cell_type": "code",
   "execution_count": 15,
   "metadata": {},
   "outputs": [],
   "source": [
    "df.drop(\"Id\" , axis=1 ,inplace=True)"
   ]
  },
  {
   "cell_type": "markdown",
   "metadata": {},
   "source": [
    "**Yeh Code Kya Karta Hai Aur Kyun?**\n",
    "\n",
    "*   `df.drop(\"Id\", ...)`: `df` DataFrame mein se 'Id' naam ka column hatana hai.\n",
    "*   `axis=1`: Yeh batata hai ki hum ek column hata rahe hain. Agar row hatani hoti toh `axis=0` use karte.\n",
    "*   `inplace=True`: Iska matlab hai ki jo badlav ho raha hai (column hatana), woh seedhe `df` DataFrame mein hi apply ho jaye. Agar yeh `False` hota (ya likha hi nahi hota, kyuki `False` default hota hai), toh `drop` function ek naya DataFrame return karta bina 'Id' column ke, aur original `df` waise ka waisa rehta. `inplace=True` use karne se code thoda chota ho jata hai.\n",
    "\n",
    "`Id` column ab DataFrame se hatt gaya hai. Chalo ek baar `head()` karke dekhte hain ki ab hamara `df` kaisa dikhta hai:"
   ]
  },
  {
   "cell_type": "code",
   "execution_count": null,
   "metadata": {},
   "outputs": [],
   "source": [
    "df.head()"
   ]
  },
  {
   "cell_type": "markdown",
   "metadata": {},
   "source": [
    "Output mein ab 'Id' column nahi dikhega. Ab hamara DataFrame machine learning ke liye zyada ready hai."
   ]
  },
  {
   "cell_type": "markdown",
   "metadata": {},
   "source": [
    "---"
   ]
  },
  {
   "cell_type": "markdown",
   "metadata": {},
   "source": [
    "## 🎨 Chapter 5: Data ki Tasveerein Banana (Making Pictures of Data - Visualization) 🎨\n",
    "\n",
    "Kabhi-कभी numbers aur tables ko dekhkar data ko samajhna mushkil hota hai. Lekin agar hum uski picture banayein, jaise graph ya chart, toh patterns aur relationships turant dikh jaate hain! Yeh bilkul aise hai jaise story padhne se zyada mazaa picture book dekhne mein aata hai! 🖼️\n",
    "\n",
    "Hum graphs banane ke liye `seaborn` (sns) aur `matplotlib.pyplot` (plt) ka use karenge."
   ]
  },
  {
   "cell_type": "markdown",
   "metadata": {},
   "source": [
    "### Data ka Album Dekhna (Pair Plot)\n",
    "\n",
    "Pair plot ek amazing graph hai jo data ke har numerical column ka dusre numerical column ke saath relationship dikhata hai. Aur kyunki hamare paas 'Species' column bhi hai, hum points ko unki species ke hisaab se color bhi kar sakte hain. Isse humein visually pata chal jayega ki kya Sepal/Petal measurements se hum species ko alag-alag kar sakte hain!\n",
    "\n",
    "Socho yeh data ke alag-alag angles se khichi hui photos ka album hai!"
   ]
  },
  {
   "cell_type": "code",
   "execution_count": null,
   "metadata": {},
   "outputs": [],
   "source": [
    "sns.pairplot(df , hue=\"Species\")\n",
    "plt.show()"
   ]
  },
  {
   "cell_type": "markdown",
   "metadata": {},
   "source": [
    "**Yeh Code Kya Karta Hai Aur Kyun?**\n",
    "\n",
    "*   `sns.pairplot(df, ...)`: `seaborn` library ka function jo DataFrame `df` ka pair plot banata hai.\n",
    "*   `hue=\"Species\"`: Yeh batata hai ki points ko 'Species' column ki values ke hisaab se color karo. Har species ka alag color hoga.\n",
    "*   `plt.show()`: Yeh `matplotlib` ka function hai jo finally graph ko screen par dikhata hai. Bina iske, graph ban jayega lekin dikhega nahi.\n",
    "\n",
    "Yeh plot bohot helpful hoga! Aap dekhenge ki 'Iris-Setosa' ke points doosri species se kaafi alag group mein hain, especially jab Petal Length aur Petal Width dekhte hain. Iska matlab hai ki Petal measurements use karke Setosa ko pehchanna bohot aasan hoga. Doosri do species ('Versicolor' aur 'Virginica') thodi mix ho rahi hain, par unmein bhi patterns hain.\n",
    "\n",
    "*(Suggestion for Ebook): Yahan par pair plot ka ek screenshot ya simple illustration add karna helpful hoga jahan alag-alag colors dikh rahe hon alag-alag species ke points ke liye.*"
   ]
  },
  {
   "cell_type": "markdown",
   "metadata": {},
   "source": [
    "### Outliers Dhoondna: Alag Thalag Numbers (Box Plot)\n",
    "\n",
    "Ab hum **outliers** ko dekhenge. Outliers woh data points hote hain jo baaki data se bohot alag ya extreme hote hain. Jaise agar aapki class mein sabki height 4-5 feet ke beech ho aur ek bachhe ki height 8 feet ho (jo impossible hai, but just imagine! 😉). Woh 8 feet wala outlier hai.\n",
    "\n",
    "Box plot ek mast tareeka hai outliers ko visually dekhne ka.\n",
    "\n",
    "Box plot ek \"box\" banata hai jo data ke beech ke 50% part ko dikhata hai (Q1 se Q3 tak). Box ke beech mein ek line median ko dikhati hai. Box ke upar aur niche \"whiskers\" hote hain jo data ki range dikhate hain (outliers ko chhodकर). Aur jo points whiskers ke bahar hote hain, woh **outliers** hain!\n",
    "\n",
    "Pehle pure data ke liye box plot dekhte hain horizontally:"
   ]
  },
  {
   "cell_type": "code",
   "execution_count": null,
   "metadata": {},
   "outputs": [],
   "source": [
    "sns.boxplot(data=df , orient=\"h\")\n",
    "plt.show()"
   ]
  },
  {
   "cell_type": "markdown",
   "metadata": {},
   "source": [
    "**Yeh Code Kya Karta Hai Aur Kyun?**\n",
    "\n",
    "*   `sns.boxplot(data=df, ...)`: `seaborn` ka box plot function. `data=df` batata hai ki data `df` se lena hai.\n",
    "*   `orient=\"h\"`: Box plots ko horizontal banata hai. `v` vertical ke liye hota hai.\n",
    "*   `plt.show()`: Graph dikhata hai.\n",
    "\n",
    "Is plot se hum har measurement column ('SepalLengthCm', 'SepalWidthCm', etc.) ke liye outliers dekh sakte hain. Dotted points jo whiskers ke bahar hain, woh outliers hain. Hamare Iris data mein aksar 'SepalWidthCm' mein kuch outliers dikhte hain.\n",
    "\n",
    "Chalo, 'SepalWidthCm' column ka box plot alag se dekhte hain taaki aur clear ho jaye."
   ]
  },
  {
   "cell_type": "code",
   "execution_count": null,
   "metadata": {},
   "outputs": [],
   "source": [
    "sns.boxplot(df[\"SepalWidthCm\"])\n",
    "plt.title(\"Before Outlier Imputation\")\n",
    "plt.show()"
   ]
  },
  {
   "cell_type": "markdown",
   "metadata": {},
   "source": [
    "**Yeh Code Kya Karta Hai Aur Kyun?**\n",
    "\n",
    "*   `sns.boxplot(df[\"SepalWidthCm\"])`: Sirf 'SepalWidthCm' column ka box plot banata hai.\n",
    "*   `plt.title(\"Before Outlier Imputation\")`: Plot ko ek title deta hai.\n",
    "*   `plt.show()`: Plot dikhata hai.\n",
    "\n",
    "Is plot mein aap clearly dekh sakte hain ki 'SepalWidthCm' mein kuch points hain jo box aur whiskers se kaafi door hain. Yeh hamare outliers hain jinhein hum theek karne ki koshish karenge agle step mein.\n",
    "\n",
    "*(Suggestion for Ebook): Box plot ka ek simple diagram add karein jahan Box, Median line, Whiskers aur Outliers clearly label hon.*"
   ]
  },
  {
   "cell_type": "markdown",
   "metadata": {},
   "source": [
    "---"
   ]
  },
  {
   "cell_type": "markdown",
   "metadata": {},
   "source": [
    "## 💪 Chapter 6: Outliers ko Theek Karna (Fixing Outliers)\n",
    "\n",
    "Outliers kabhi-kabhi machine learning models ko confuse kar sakte hain ya galat sikha sakte hain, especially Decision Trees ke liye. Isliye hum unhein thoda theek kar sakte hain. Outliers theek karne ke bohot tarike hain. Ek popular tarika hai **IQR (Interquartile Range)** method use karna.\n",
    "\n",
    "**Outliers Kya Hote Hain aur Unhein Kaise Pakdein?**\n",
    "\n",
    "IQR method ek formula use karta hai outliers ko identify karne ke liye:\n",
    "*   Hum Q1 (25th percentile) aur Q3 (75th percentile) nikalte hain. Yeh description se milte hain. Box plot ka box Q1 se Q3 tak hi hota hai.\n",
    "*   **IQR** = Q3 - Q1. Yeh box ki lambai hai, matlab data ka middle 50%.\n",
    "*   Hum ek lower boundary aur ek upper boundary calculate karte hain:\n",
    "    *   Lower Boundary = Q1 - 1.5 * IQR\n",
    "    *   Upper Boundary = Q3 + 1.5 * IQR\n",
    "\n",
    "Jo data point Lower Boundary se chota ya Upper Boundary se bada hai, usko outlier mana jata hai.\n",
    "\n",
    "Ab hum 'SepalWidthCm' column ke liye yeh calculations karte hain aur boundaries find karte hain."
   ]
  },
  {
   "cell_type": "code",
   "execution_count": 20,
   "metadata": {},
   "outputs": [],
   "source": [
    "Q1 = df[\"SepalWidthCm\"].quantile(0.25)\n",
    "Q3 = df[\"SepalWidthCm\"].quantile(0.75)\n",
    "\n",
    "IQR = Q3-Q1\n",
    "\n",
    "Lower_value = Q1 - 1.5*IQR\n",
    "Upper_value = Q3 + 1.5*IQR\n",
    "\n",
    "sepal_median = np.median(df[\"SepalWidthCm\"])"
   ]
  },
  {
   "cell_type": "markdown",
   "metadata": {},
   "source": [
    "**Yeh Code Kya Karta Hai Aur Kyun?**\n",
    "\n",
    "*   `df[\"SepalWidthCm\"].quantile(0.25)`: 'SepalWidthCm' column ka 25th percentile (Q1) calculate karta hai.\n",
    "*   `df[\"SepalWidthCm\"].quantile(0.75)`: 'SepalWidthCm' column ka 75th percentile (Q3) calculate karta hai.\n",
    "*   `IQR = Q3 - Q1`: Interquartile Range calculate karta hai.\n",
    "*   `Lower_value = Q1 - 1.5 * IQR`: Lower boundary calculate karta hai.\n",
    "*   `Upper_value = Q3 + 1.5 * IQR`: Upper boundary calculate karta hai.\n",
    "*   `np.median(df[\"SepalWidthCm\"])`: 'SepalWidthCm' column ka median (middle value) calculate karta hai. Hum is median value ka use karenge outliers ko replace karne ke liye. Median average se better ho sakta hai jab outliers hon, kyunki woh extreme values se affect nahi hota.\n",
    "\n",
    "Ab humare paas lower boundary, upper boundary aur median value hai. Pehle median ki value dekhte hain:"
   ]
  },
  {
   "cell_type": "code",
   "execution_count": null,
   "metadata": {},
   "outputs": [],
   "source": [
    "sepal_median"
   ]
  },
  {
   "cell_type": "markdown",
   "metadata": {},
   "source": [
    "Yeh code simply calculate kiya gaya median value dikhayega."
   ]
  },
  {
   "cell_type": "markdown",
   "metadata": {},
   "source": [
    "### Outliers ko Badalna (Replacing with Median)\n",
    "\n",
    "Ab, hum `SepalWidthCm` column mein jayenge aur har us value ko dhoondhenge jo hamari Lower Boundary se choti hai ya Upper Boundary se badi hai (yani outlier hai). Jin values ko humein theek karna hai, unki jagah par hum median value daal denge."
   ]
  },
  {
   "cell_type": "code",
   "execution_count": 24,
   "metadata": {},
   "outputs": [],
   "source": [
    "for i in df[\"SepalWidthCm\"]:\n",
    "    if i > Upper_value or i < Lower_value:\n",
    "        df[\"SepalWidthCm\"] = df[\"SepalWidthCm\"].replace(i, sepal_median)"
   ]
  },
  {
   "cell_type": "markdown",
   "metadata": {},
   "source": [
    "**Yeh Code Kya Karta Hai Aur Kyun?**\n",
    "\n",
    "*   `for i in df[\"SepalWidthCm\"]: `: Yeh code 'SepalWidthCm' column ki har value ko ek-ek karke `i` variable mein daalta hai aur loop chalta hai.\n",
    "*   `if i > Upper_value or i < Lower_value:`: Yeh check karta hai ki current value `i` Upper Boundary se badi hai (`i > Upper_value`) YA (`or`) Lower Boundary se choti hai (`i < Lower_value`). Matlab, kya yeh value ek outlier hai?\n",
    "*   `df[\"SepalWidthCm\"] = df[\"SepalWidthCm\"].replace(i, sepal_median)`: Agar `if` condition `True` hai (value outlier hai), toh `df[\"SepalWidthCm\"]` column mein jahan bhi yeh outlier value `i` milegi, usko `sepal_median` se badal diya jayega. `replace` function existing values ko replace karta hai.\n",
    "\n",
    "Yeh loop khatam hone ke baad, `SepalWidthCm` column mein ab woh extreme outlier values nahi hongi, unki jagah par median value aa gayi hogi."
   ]
  },
  {
   "cell_type": "markdown",
   "metadata": {},
   "source": [
    "### Theek Hone ke Baad Dekhna\n",
    "\n",
    "Chalo, ek baar phir se 'SepalWidthCm' column ka box plot banakar dekhte hain ki outliers theek hue ya nahi."
   ]
  },
  {
   "cell_type": "code",
   "execution_count": null,
   "metadata": {},
   "outputs": [],
   "source": [
    "sns.boxplot(df[\"SepalWidthCm\"])\n",
    "plt.title(\"After Outlier Imputation\")\n",
    "plt.show()"
   ]
  },
  {
   "cell_type": "markdown",
   "metadata": {},
   "source": [
    "**Yeh Code Kya Karta Hai Aur Kyun?**\n",
    "\n",
    "*   Yeh code bilkul pichhle box plot code jaisa hi hai, bas ab yeh data theek karne ke baad chal raha hai aur title bhi change kar diya hai.\n",
    "\n",
    "Is plot mein aapko dikhega ki pehle jo outliers dikh rahe the (dotted points whiskers ke bahar), woh ab ya toh gayab ho gaye hain ya box plot ke andar aa gaye hain. Iska matlab hamare outliers theek ho gaye hain (ya unhein median se replace kar diya gaya hai). Great job! ✨"
   ]
  },
  {
   "cell_type": "markdown",
   "metadata": {},
   "source": [
    "---"
   ]
  },
  {
   "cell_type": "markdown",
   "metadata": {},
   "source": [
    "## 🌳 Chapter 7: Decision Tree kya hai? (What is a Decision Tree?) 🌳\n",
    "\n",
    "Ab jab data saaf aur ready hai, hum apne main task par aate hain: ek Decision Tree model banana!"
   ]
  },
  {
   "cell_type": "markdown",
   "metadata": {},
   "source": [
    "### Faisle Lene Wala Ped!\n",
    "\n",
    "**Decision Tree** ko sabse achhe se ek example se samjha ja sakta hai. Socho aapke paas kuch khilone hain 🧸🚗⚽ aur aap unhein alag-alag box mein rakhna chahte ho based on some rules.\n",
    "\n",
    "1.  **Kya khilona soft hai?**\n",
    "    *   Agar **Haan** (Yes): Shayad yeh soft toy (bear) hai.\n",
    "    *   Agar **Nahi** (No): Aage ek aur sawaal poochho.\n",
    "2.  **Agar soft nahi hai, toh kya uske wheels hain?**\n",
    "    *   Agar **Haan** (Yes): Shayad yeh car hai.\n",
    "    *   Agar **Nahi** (No): Shayad yeh ball hai.\n",
    "\n",
    "Yeh sawalon ki series ek tree jaisa structure banati hai:\n",
    "\n",
    "*   Sabse ऊपर वाला point root (जड़) hai (क्या khilona soft hai?).\n",
    "*   Har sawal ek node hai (क्या uske wheels hain?).\n",
    "*   Sawalon ke jawab branches hain (हाँ या नहीं).\n",
    "*   Jab aap finally bata dete ho ki yeh kaunsa khilona hai, woh ek leaf (पत्ती) hai (bear, car, ball).\n",
    "\n",
    "*(Suggestion for Ebook): Yahan ek simple flowchart/tree diagram add karein jo is toy sorting example ko dikhaye.* \n",
    "\n",
    "Hamara Decision Tree model bhi same tarike se kaam karta hai. Woh flower ke measurements (Sepal Length, Petal Width, etc.) par based simple simple questions poochega (jaise \"Is Petal Length > 2.45 cm?\"). In questions ke jawab ke hisaab se woh alag-alag branches par jayega, aur finally ek \"leaf\" tak pahunchega jo batayegi ki woh flower kaunsi species ka hai (Setosa, Versicolor, ya Virginica).\n",
    "\n",
    "Yeh ek bohot hi easy to understand aur powerful model hai! 💪"
   ]
  },
  {
   "cell_type": "markdown",
   "metadata": {},
   "source": [
    "---"
   ]
  },
  {
   "cell_type": "markdown",
   "metadata": {},
   "source": [
    "## 🧩 Chapter 8: Model ke liye Data Taiyaar Karna (Preparing Data for the Model) 🧩\n",
    "\n",
    "Machine learning models data ko direct `df` table format mein nahi lete (ya lete hain par humein kuch steps karne hote hain). Humein data ko do main parts mein split karna hota hai:\n",
    "\n",
    "1.  **Features (X):** Yeh woh measurements hain jo model use karega prediction karne ke liye. Jaise flower ki lambai, chaudai. Yeh input data hai.\n",
    "2.  **Target (Y):** Yeh woh cheez hai jo model predict karna chahta hai. Hamare case mein, yeh flower ki **Species** hai. Yeh output data hai."
   ]
  },
  {
   "cell_type": "markdown",
   "metadata": {},
   "source": [
    "### Kisko Denge (Features - X) aur Kya Batana Hai (Target - Y)\n",
    "\n",
    "Hum features (X) ke liye saare measurement columns lenge aur target (Y) ke liye 'Species' column."
   ]
  },
  {
   "cell_type": "code",
   "execution_count": 27,
   "metadata": {},
   "outputs": [],
   "source": [
    "from sklearn.model_selection import train_test_split\n",
    "from sklearn.tree import DecisionTreeClassifier,plot_tree\n",
    "from sklearn.metrics import accuracy_score,confusion_matrix"
   ]
  },
  {
   "cell_type": "markdown",
   "metadata": {},
   "source": [
    "**Yeh Code Kya Karta Hai Aur Kyun?**\n",
    "\n",
    "*   `from sklearn.model_selection import train_test_split`: Scikit-learn ki `model_selection` module se `train_test_split` function import karta hai.\n",
    "*   `from sklearn.tree import DecisionTreeClassifier,plot_tree`: Scikit-learn ki `tree` module se `DecisionTreeClassifier` (decision tree model banane ke liye) aur `plot_tree` (tree ka graph banane ke liye) import karta hai.\n",
    "*   `from sklearn.metrics import accuracy_score,confusion_matrix`: Scikit-learn ki `metrics` module se `accuracy_score` aur `confusion_matrix` import karta hai, jinhein hum model ki performance check karne ke liye use karenge.\n",
    "\n",
    "Yeh sab tools import ho gaye. Ab dekhte hain hamare pass kaunse columns hain:"
   ]
  },
  {
   "cell_type": "code",
   "execution_count": null,
   "metadata": {},
   "outputs": [],
   "source": [
    "df.columns"
   ]
  },
  {
   "cell_type": "markdown",
   "metadata": {},
   "source": [
    "Ab features aur target ko alag karte hain."
   ]
  },
  {
   "cell_type": "code",
   "execution_count": 29,
   "metadata": {},
   "outputs": [],
   "source": [
    "X = df[['SepalLengthCm', 'SepalWidthCm', 'PetalLengthCm', 'PetalWidthCm']]\n",
    "Y = df[\"Species\"]"
   ]
  },
  {
   "cell_type": "markdown",
   "metadata": {},
   "source": [
    "**Yeh Code Kya Karta Hai Aur Kyun?**\n",
    "\n",
    "*   `X = df[['SepalLengthCm', 'SepalWidthCm', 'PetalLengthCm', 'PetalWidthCm']]`: `df` DataFrame mein se square brackets `[]` ke andar column names ki list `[...]` dekar multiple columns select kar rahe hain. Yeh selected columns `X` variable mein store ho jayenge. `X` hamare features hain.\n",
    "*   `Y = df[\"Species\"]`: `df` DataFrame mein se sirf 'Species' column select kar rahe hain aur usko `Y` variable mein store kar rahe hain. `Y` hamara target hai.\n",
    "\n",
    "Ab hamare paas `X` (input measurements) aur `Y` (output species) alag-alag hain."
   ]
  },
  {
   "cell_type": "markdown",
   "metadata": {},
   "source": [
    "### Data ko Bantna: Sikhne aur Test Karne ke Liye (Train-Test Split)\n",
    "\n",
    "Model ko hum pehle data ke ek hisse par **sikhayenge (train)**, aur phir doosre hisse par **test** karenge ki woh kitna achha perform karta hai. Imagine karo aap ek new game seekh rahe ho. Pehle aap tutorial level khelte ho (training), aur phir main game khelte ho jahan aapki asli skills test hoti hain (testing).\n",
    "\n",
    "Iske liye hum `train_test_split` function use karte hain `sklearn` (Scikit-learn) library se."
   ]
  },
  {
   "cell_type": "code",
   "execution_count": 30,
   "metadata": {},
   "outputs": [],
   "source": [
    "X_train,X_test,y_train,y_test = train_test_split(X,Y , test_size=0.2 , random_state=42)"
   ]
  },
  {
   "cell_type": "markdown",
   "metadata": {},
   "source": [
    "**Yeh Code Kya Karta Hai Aur Kyun?**\n",
    "\n",
    "*   `train_test_split(X, Y, ...)`: Is function ko hum features `X` aur target `Y` dete hain.\n",
    "*   `test_size=0.2`: Iska matlab hai ki data ka 20% hissa testing ke liye alag karo, aur baaki 80% training ke liye use hoga.\n",
    "*   `random_state=42`: Yeh ek special number hai jo yeh ensure karta hai ki har baar jab aap code run karein, data same tarike se split ho. Agar yeh number nahi denge, toh har baar split alag hoga, aur results change ho sakte hain. Koi bhi number use kar sakte hain, 42 famous hai! 😊\n",
    "*   `X_train, X_test, y_train, y_test = ...`: Function 4 cheezein return karta hai:\n",
    "    *   `X_train`: Features jo training ke liye hain (80%).\n",
    "    *   `X_test`: Features jo testing ke liye hain (20%).\n",
    "    *   `y_train`: Target jo training ke liye hain (80%, `X_train` ke corresponding).\n",
    "    *   `y_test`: Target jo testing ke liye hain (20%, `X_test` ke corresponding).\n",
    "\n",
    "Ab hamara data training aur testing sets mein divide ho gaya hai. Ready hain model banane ke liye? Yes! 🚀\n",
    "\n",
    "*(Suggestion for Ebook): Ek simple diagram add karein jo dikhaye ki original dataset `X` aur `Y` do parts mein split ho rahe hain - `Train` aur `Test`.*"
   ]
  },
  {
   "cell_type": "markdown",
   "metadata": {},
   "source": [
    "---"
   ]
  },
  {
   "cell_type": "markdown",
   "metadata": {},
   "source": [
    "## 🏗️ Chapter 9: Apna Decision Tree Model Banana aur Sikhana (Making and Training Our Decision Tree Model) 🏗️\n",
    "\n",
    "Ab woh exciting moment aa gaya hai! Hum apna Decision Tree model banayenge aur usko data par train karenge."
   ]
  },
  {
   "cell_type": "markdown",
   "metadata": {},
   "source": [
    "### Decision Tree Model Chunna\n",
    "\n",
    "Hum `DecisionTreeClassifier` function ka use karenge Scikit-learn se model banane ke liye. Isme hum kuch settings (parameters) set kar sakte hain, jaise:\n",
    "\n",
    "*   `criterion`: Yeh batata hai ki Decision Tree ko branches banane ke liye best sawal kaise chunna hai. 'gini' aur 'entropy' do common tarike hain. 'gini' ka matlab hai 'gini impurity' use karna. Simple terms mein, yeh try karta hai ki har split ke baad jo groups banein woh zyada se zyada 'pure' hon (matlab ek group mein mostly ek hi species ke flowers hon).\n",
    "*   `max_depth`: Yeh tree ki gehrai control karta hai. Agar yeh bohot bada ho jaye, toh tree bohot complex ho sakta hai aur naye data par achhe se kaam nahi karega (overfitting). Agar yeh bohot chota ho, toh model data ko theek se seekh nahi payega (underfitting). Humne yahan `max_depth=30` rakha hai, jo Decision Tree ko kaafi complex hone ki permission de raha hai. Real practice mein hum isko tune karte hain.\n",
    "*   `random_state`: Jaise `train_test_split` mein tha, yeh bhi ensure karta hai ki har baar jab aap code run karein, same model bane. "
   ]
  },
  {
   "cell_type": "code",
   "execution_count": 31,
   "metadata": {},
   "outputs": [],
   "source": [
    "tree_clf = DecisionTreeClassifier(criterion=\"gini\" , max_depth=30 , random_state=42)"
   ]
  },
  {
   "cell_type": "markdown",
   "metadata": {},
   "source": [
    "**Yeh Code Kya Karta Hai Aur Kyun?**\n",
    "\n",
    "*   `DecisionTreeClassifier(...)`: `DecisionTreeClassifier` ka ek naya instance (object) create karta hai. Socho aap Decision Tree machine ka ek piece bana rahe ho.\n",
    "*   `criterion=\"gini\"`, `max_depth=30`, `random_state=42`: Model ki settings set kar rahe hain.\n",
    "*   `tree_clf = ...`: Bane hue Decision Tree object ko `tree_clf` variable mein store kar rahe hain. Ab `tree_clf` hamara decision-maker machine hai, par abhi yeh trained nahi hai, isko sikhana padega."
   ]
  },
  {
   "cell_type": "markdown",
   "metadata": {},
   "source": [
    "### Model ko Sikhana (Fitting)\n",
    "\n",
    "Ab hum `tree_clf` model ko training data (`X_train`, `y_train`) par sikhayenge. Is process ko **fitting** ya **training** kehte hain. Model `X_train` mein diye gaye measurements aur `y_train` mein unke corresponding species ko dekhega aur apne internal rules (decision logic) ko adjust karega taaki woh measurements se species ko guess kar sake."
   ]
  },
  {
   "cell_type": "code",
   "execution_count": null,
   "metadata": {},
   "outputs": [],
   "source": [
    "tree_clf.fit(X_train,y_train)"
   ]
  },
  {
   "cell_type": "markdown",
   "metadata": {},
   "source": [
    "**Yeh Code Kya Karta Hai Aur Kyun?**\n",
    "\n",
    "*   `tree_clf.fit(X_train, y_train)`: `tree_clf` object ka `fit` method call karta hai. Isko training features (`X_train`) aur training target (`y_train`) dete hain. Model in data ko use karke apne decision rules bana leta hai.\n",
    "\n",
    "Jab yeh code run hoga, model internally apne tree structure ko build karega based on the training data. Congratulations! Aapne apna pehla Decision Tree model train kar liya! 🎉"
   ]
  },
  {
   "cell_type": "markdown",
   "metadata": {},
   "source": [
    "---"
   ]
  },
  {
   "cell_type": "markdown",
   "metadata": {},
   "source": [
    "## ✅ Chapter 10: Model ko Test Karna (Testing the Model) ✅\n",
    "\n",
    "Model train ho gaya. Ab dekhte hain ki yeh naye, anjaane data par kitna achha perform karta hai. Iske liye hum testing data (`X_test`, `y_test`) use karenge. Hum model se `X_test` ke liye species predict karne ko bolenge aur phir un predictions ko asli species (`y_test`) se compare karenge."
   ]
  },
  {
   "cell_type": "markdown",
   "metadata": {},
   "source": [
    "### Model se Poochna: Andaza Lagana (Prediction)"
   ]
  },
  {
   "cell_type": "markdown",
   "metadata": {},
   "source": [
    "Hum `predict()` method ka use karke model se `X_test` features ke liye species ka andaza lagayenge."
   ]
  },
  {
   "cell_type": "code",
   "execution_count": 33,
   "metadata": {},
   "outputs": [],
   "source": [
    "y_pred = tree_clf.predict(X_test)"
   ]
  },
  {
   "cell_type": "markdown",
   "metadata": {},
   "source": [
    "**Yeh Code Kya Karta Hai Aur Kyun?**\n",
    "\n",
    "*   `tree_clf.predict(X_test)`: Trained `tree_clf` model ka `predict` method call karta hai. Isko testing features (`X_test`) dete hain. Model `X_test` mein har row ke liye apni decision rules apply karta hai aur us flower ki species ka andaza lagata hai.\n",
    "*   `y_pred = ...`: Model ne jo species predict ki hain, unko `y_pred` variable mein store kar rahe hain (`y_pred` stands for predicted Y).\n",
    "\n",
    "Ab `y_pred` mein woh species names hain jo hamare model ne `X_test` ke flowers ke liye predict kiye hain. Chalo unhein dekhte hain:"
   ]
  },
  {
   "cell_type": "code",
   "execution_count": null,
   "metadata": {},
   "outputs": [],
   "source": [
    "y_pred"
   ]
  },
  {
   "cell_type": "markdown",
   "metadata": {},
   "source": [
    "Yeh code `y_pred` array ki values dikhayega, jismein predicted species ke naam honge."
   ]
  },
  {
   "cell_type": "markdown",
   "metadata": {},
   "source": [
    "### Kitna Sahi Tha? (Accuracy)"
   ]
  },
  {
   "cell_type": "markdown",
   "metadata": {},
   "source": [
    "Ab hum dekhte hain ki model ne `X_test` ke flowers ke liye kitne predictions sahi kiye. Iske liye hum **Accuracy Score** calculate karte hain. Accuracy batati hai ki total predictions mein se kitne predictions sahi the."
   ]
  },
  {
   "cell_type": "code",
   "execution_count": 35,
   "metadata": {},
   "outputs": [],
   "source": [
    "accuracy = accuracy_score(y_test , y_pred)"
   ]
  },
  {
   "cell_type": "markdown",
   "metadata": {},
   "source": [
    "**Yeh Code Kya Karta Hai Aur Kyun?**\n",
    "\n",
    "*   `accuracy_score(y_test, y_pred)`: `accuracy_score` function ko asli species values (`y_test`) aur model ki predicted species values (`y_pred`) dete hain. Yeh function calculate karta hai ki `y_test` aur `y_pred` mein kitni values match karti hain aur usko total values se divide karke percentage (ya decimal) mein accuracy deta hai."
   ]
  },
  {
   "cell_type": "code",
   "execution_count": null,
   "metadata": {},
   "outputs": [],
   "source": [
    "accuracy"
   ]
  },
  {
   "cell_type": "markdown",
   "metadata": {},
   "source": [
    "Yeh number 0 se 1 ke beech mein hoga. Agar accuracy 1 hai, matlab model ne 100% predictions sahi kiye. Agar 0.95 hai, matlab 95% predictions sahi the. Iris dataset par Decision Tree aksar bohot achhi accuracy deta hai."
   ]
  },
  {
   "cell_type": "markdown",
   "metadata": {},
   "source": [
    "### Kaunse Flowers Gaye Mix Up? (Confusion Matrix)"
   ]
  },
  {
   "cell_type": "markdown",
   "metadata": {},
   "source": [
    "Accuracy ek achha overall measure hai, par kabhi-kabhi hum yeh bhi jaanana chahte hain ki model ne kaunsi species ko kis doosri species se confuse kiya. Iske liye hum **Confusion Matrix** use karte hain."
   ]
  },
  {
   "cell_type": "code",
   "execution_count": 37,
   "metadata": {},
   "outputs": [],
   "source": [
    "conf_matrix = confusion_matrix(y_test,y_pred)"
   ]
  },
  {
   "cell_type": "markdown",
   "metadata": {},
   "source": [
    "**Yeh Code Kya Karta Hai Aur Kyun?**\n",
    "\n",
    "*   `confusion_matrix(y_test, y_pred)`: `confusion_matrix` function ko asli values (`y_test`) aur predicted values (`y_pred`) dete hain. Yeh ek matrix (table) return karta hai jismein counts hote hain ki kitne actual values ko kis predicted value mein rakha gaya."
   ]
  },
  {
   "cell_type": "code",
   "execution_count": null,
   "metadata": {},
   "outputs": [],
   "source": [
    "conf_matrix"
   ]
  },
  {
   "cell_type": "markdown",
   "metadata": {},
   "source": [
    "Output mein ek 2D array dikhega. Rows asli species represent karti hain aur columns predicted species."
   ]
  },
  {
   "cell_type": "markdown",
   "metadata": {},
   "source": [
    "### Confusion Matrix ko Colors mein Dekhna (Heatmap)\n",
    "\n",
    "Confusion matrix ko numbers mein dekhna thoda dry ho sakta hai. Isko heatmap mein visualize karne se samajhna aur aasan ho jata hai! Heatmap ek graph hai jahan values ko colors se represent kiya jata hai (darker color = bigger number)."
   ]
  },
  {
   "cell_type": "code",
   "execution_count": null,
   "metadata": {},
   "outputs": [],
   "source": [
    "sns.heatmap(conf_matrix,annot=True , cmap=\"Blues\" , xticklabels=tree_clf.classes_ , yticklabels=tree_clf.classes_)\n",
    "plt.show()"
   ]
  },
  {
   "cell_type": "markdown",
   "metadata": {},
   "source": [
    "**Yeh Code Kya Karta Hai Aur Kyun?**\n",
    "\n",
    "*   `sns.heatmap(conf_matrix, ...)`: `seaborn` ka `heatmap` function `conf_matrix` ko visualize karne ke liye.\n",
    "*   `annot=True`: Har cell ke andar count (number) likh dega.\n",
    "*   `cmap=\"Blues\"`: Color scheme set karta hai. `Blues` matlab numbers jitne bade honge, color utna dark blue hoga.\n",
    "*   `xticklabels=tree_clf.classes_`: X-axis (predicted classes) par labels dikhayega jo model ne predict kiye hain (Setosa, Versicolor, Virginica).\n",
    "*   `yticklabels=tree_clf.classes_`: Y-axis (actual classes) par labels dikhayega jo asli classes hain.\n",
    "*   `plt.show()`: Heatmap dikhata hai.\n",
    "\n",
    "Yeh heatmap visually dikhayega ki kis species ko model ne kitni baar sahi predict kiya (diagonal cells mein bade numbers) aur kis species ko kis doosri species se confuse kiya (non-diagonal cells mein numbers). Agar non-diagonal cells mein numbers kam hain, toh model achha perform kar raha hai. Iris dataset par aksar Versicolor aur Virginica mein thoda confusion hota hai, kyunki woh features mein thode similar hote hain.\n",
    "\n",
    "*(Suggestion for Ebook): Confusion matrix heatmap ka screenshot add karna bohot helpful hoga.*"
   ]
  },
  {
   "cell_type": "markdown",
   "metadata": {},
   "source": [
    "---"
   ]
  },
  {
   "cell_type": "markdown",
   "metadata": {},
   "source": [
    "## 🌲🖼️ Chapter 11: Apna Decision Tree Dekhna (Seeing Our Decision Tree) 🌲🖼️\n",
    "\n",
    "Humne model bana liya, train kar liya, aur test bhi kar liya. Par woh Decision Tree asal mein kaisa dikhta hai? Woh kya sawal pooch raha hai? Hum `plot_tree` function ka use karke apne trained Decision Tree ka graph bana sakte hain!"
   ]
  },
  {
   "cell_type": "markdown",
   "metadata": {},
   "source": [
    "Yeh graph bohot bada ho sakta hai, par yeh aapko literally dikhayega ki model ne decision kaise liye."
   ]
  },
  {
   "cell_type": "code",
   "execution_count": null,
   "metadata": {},
   "outputs": [],
   "source": [
    "plt.figure(figsize=(15,10))\n",
    "plot_tree(tree_clf , filled=True , feature_names=X.columns , class_names=tree_clf.classes_)\n",
    "plt.show()"
   ]
  },
  {
   "cell_type": "markdown",
   "metadata": {},
   "source": [
    "**Yeh Code Kya Karta Hai Aur Kyun?**\n",
    "\n",
    "*   `plt.figure(figsize=(15,10))`: Graph ke liye ek figure create karta hai jiska size 15 inches चौड़ा aur 10 inches ऊँचा hai. Bade tree ke liye bada size chahiye.\n",
    "*   `plot_tree(tree_clf, ...)`: `plot_tree` function ko trained `tree_clf` model dete hain.\n",
    "*   `filled=True`: Cells ko color se fill karega, jo predominant class ko dikhayega us node mein.\n",
    "*   `feature_names=X.columns`: Har decision node par sawal mein feature names (SepalLengthCm, PetalWidthCm, etc.) dikhayega.\n",
    "*   `class_names=tree_clf.classes_`: Leaf nodes par species ke naam dikhayega.\n",
    "*   `plt.show()`: Tree graph dikhata hai.\n",
    "\n",
    "Is graph mein aap har node (box) ko dekh sakte hain. Har node mein ek condition hogi (jaise PetalWidthCm <= 0.8), samples ka count, values ka distribution (kitne samples har class ke hain), aur predominantly kaunsi class hai (color se bhi pata chalega). Jab aap bottom tak pahunchenge (leaf nodes), wahan koi condition nahi hogi, bas samples ka count aur class name hoga - yeh final decision hai!\n",
    "\n",
    "Aap dekhenge ki Petal Width aur Petal Length aksar pehle sawal hote hain, kyunki pair plot se bhi pata chala tha ki yeh features species ko alag karne mein bohot helpful hain.\n",
    "\n",
    "*(Suggestion for Ebook): Tree plot ka ek screenshot add karein. Explain karein ki ek node mein kya information hoti hai (condition, gini, samples, value, class).*"
   ]
  },
  {
   "cell_type": "markdown",
   "metadata": {},
   "source": [
    "---"
   ]
  },
  {
   "cell_type": "markdown",
   "metadata": {},
   "source": [
    "## 🥇 Chapter 12: Sabse Zaroori Cheezein Kya Thi? (What Were the Most Important Things?) 🥇\n",
    "\n",
    "Decision Tree model jab seekhta hai, toh woh yeh bhi track karta hai ki kaunse features (measurements) species ko predict karne mein sabse zyada madadgar the. Isko **Feature Importance** kehte hain."
   ]
  },
  {
   "cell_type": "markdown",
   "metadata": {},
   "source": [
    "Hum model ke `feature_importances_` attribute ko access karke yeh dekh sakte hain."
   ]
  },
  {
   "cell_type": "code",
   "execution_count": null,
   "metadata": {},
   "outputs": [],
   "source": [
    "tree_clf.feature_importances_"
   ]
  },
  {
   "cell_type": "markdown",
   "metadata": {},
   "source": [
    "**Yeh Code Kya Karta Hai Aur Kyun?**\n",
    "\n",
    "*   `tree_clf.feature_importances_`: Trained `tree_clf` model ke andar stored feature importances ko access karta hai. Yeh ek array return karega jismein har feature ke liye ek number hoga. Number jitna bada, feature utna zyada important."
   ]
  },
  {
   "cell_type": "markdown",
   "metadata": {},
   "source": [
    "Array mein values usi order mein hongi jis order mein features `X` DataFrame mein the. Chalo ek baar phir se `X.columns` dekh lete hain order confirm karne ke liye:"
   ]
  },
  {
   "cell_type": "code",
   "execution_count": null,
   "metadata": {},
   "outputs": [],
   "source": [
    "X.columns"
   ]
  },
  {
   "cell_type": "markdown",
   "metadata": {},
   "source": [
    "Output `Index(['SepalLengthCm', 'SepalWidthCm', 'PetalLengthCm', 'PetalWidthCm'], dtype='object')` jaisa kuch dikhega. Iska matlab `feature_importances_` array mein pehla number SepalLengthCm ki importance, doosra SepalWidthCm ki, teesra PetalLengthCm ki, aur chautha PetalWidthCm ki importance batayega.\n",
    "\n",
    "Aap dekhenge ki PetalLengthCm aur PetalWidthCm ki importance SepalLengthCm aur SepalWidthCm se kaafi zyada hogi. Yeh pair plot aur tree structure se bhi confirm hota hai ki Petal measurements species ko alag karne mein zyada kaam aate hain.\n",
    "\n",
    "*(Suggestion for Ebook): Feature importance ko feature names ke saath ek table ya bar chart ke roop mein visualize karne ka suggestion dein. Ek simple bar chart ka idea bana dein.*"
   ]
  },
  {
   "cell_type": "markdown",
   "metadata": {},
   "source": [
    "---"
   ]
  },
  {
   "cell_type": "markdown",
   "metadata": {},
   "source": [
    "## 📖 Glossary: Zaroori Shabdon ka Matlab (Important Terms Explained) 📖\n",
    "\n",
    "Kuch words jo humne seekhe:\n",
    "\n",
    "*   **Data:** Jankari ya facts, jaise numbers, text, measurements. (उदाहरण: Flowers ke measurements).\n",
    "*   **DataFrame (df):** Pandas mein data ko organize karne ka tareeka, jaise ek smart table ya spreadsheet.\n",
    "*   **Feature (X):** Data ke woh parts jo model input mein leta hai prediction karne ke liye. Yeh measurements hote hain. (उदाहरण: Sepal Length, Petal Width). Socho yeh kisi cheez ke \"qualities\" hain.\n",
    "*   **Target (Y):** Woh cheez jo model predict karna chahta hai. (उदाहरण: Flower ki Species). Socho yeh woh \"result\" hai jo hum dhoondh rahe hain.\n",
    "*   **Outlier:** Data ka woh point jo baaki data se bohot alag ya extreme ho. (उदाहरण: Bahut lambi Sepal Width jo normal range se bahar ho). Jaise group photo mein koi bohot door khada ho!\n",
    "*   **IQR (Interquartile Range):** Data ke middle 50% ki range. Outliers ko identify karne mein madad karta hai.\n",
    "*   **Median:** Data ka middle value jab data ko sort kar diya jaye. Outliers se zyada affect nahi hota average ki tarah.\n",
    "*   **Model:** Machine learning mein, yeh ek algorithm ya mathematical structure hai jo data se patterns seekhta hai aur predictions karta hai. Socho yeh machine ka \"brain\" hai jo data ko samajhta hai.\n",
    "*   **Train:** Model ko data dikhakar usko sikhana taaki woh patterns pehchan sake.\n",
    "*   **Test:** Model ko naye, anjaane data par check karna ki woh kitna achha perform karta hai.\n",
    "*   **Predict:** Train kiye hue model se naye data ke liye andaza lagana ki output kya hoga.\n",
    "*   **Accuracy:** Batata hai ki model ne kitne predictions sahi kiye. 0 se 1 ke beech ek number (ya percentage).\n",
    "*   **Confusion Matrix:** Ek table jo dikhati hai ki model ne kis class ko kis class se confuse kiya.\n",
    "*   **Decision Tree:** Ek model jo data par simple questions (conditions) poochh kar tree jaisa structure banata hai aur decisions leta hai. Jaise ek flowchart for making choices.\n",
    "*   **Feature Importance:** Batata hai ki prediction karte waqt kaunsa feature sabse zyada helpful tha."
   ]
  },
  {
   "cell_type": "markdown",
   "metadata": {},
   "source": [
    "---"
   ]
  },
  {
   "cell_type": "markdown",
   "metadata": {},
   "source": [
    "## 🎉 Summary: Humne Kya Seekha aur Aage Kya? 🎉\n",
    "\n",
    "Waah! Humne toh bohot kuch seekh liya! 🤩\n",
    "\n",
    "Is journey mein, humne:\n",
    "\n",
    "1.  Zaroori tools (`pandas`, `numpy`, `matplotlib`, `seaborn`, `sklearn`) jama kiye.\n",
    "2.  Apna flower data load kiya.\n",
    "3.  Data ko dekha aur samjha (EDA) - `head`, `info`, `isnull`, `duplicated`, `describe`, `value_counts` use karke.\n",
    "4.  Zaroori nahi tha woh column hataya ('Id').\n",
    "5.  Data ki tasveerein banayi (Pair plot aur Box plots).\n",
    "6.  'SepalWidthCm' mein outliers identify kiye aur unhein median value se theek kiya (IQR method).\n",
    "7.  Samjha ki Decision Tree kya hota hai.\n",
    "8.  Apne data ko Features (X) aur Target (Y) mein alag kiya.\n",
    "9.  Data ko training aur testing sets mein split kiya.\n",
    "10. Apna Decision Tree Classifier model banaya aur train kiya.\n",
    "11. Model ki performance check ki `accuracy_score` aur `confusion_matrix` use karke.\n",
    "12. Apne train kiye hue Decision Tree ko visual रूप में देखा.\n",
    "13. Pata lagaya ki kaunse features sabse zyada important the predictions ke liye.\n",
    "\n",
    "Yeh Data Science aur Machine Learning ki duniya ka bas pehla kadam hai! Aapne ek asli project kiya hai, data ko prepare kiya hai, ek model banaya hai, aur usko test bhi kiya hai. Yeh amazing hai! 👏\n",
    "\n",
    "**Aage kya karein?**\n",
    "\n",
    "*   Isi Decision Tree model ki settings (`max_depth`, `criterion`) badal kar dekho aur dekho accuracy par kya farak padta hai.\n",
    "*   Koi doosra classification model try karo, jaise K-Nearest Neighbors (KNN) ya Support Vector Machine (SVM), jo `sklearn` mein available hain. Dekho kaunsa model zyada achhi accuracy deta hai.\n",
    "*   Koi aur dataset download karo aur uspar yeh saare steps apply karo.\n",
    "*   Aur zyada visualizations explore karo.\n",
    "\n",
    "Yaad rakhna, Data Science ek safar hai jahan aap data se baat karna, usko samajhna, aur usse seekhna seekhte ho. Keep exploring, keep coding, and keep having fun! 😊🚀\n",
    "\n",
    "Agar koi sawal ho, toh bas socho aur experiment karo! Python aur yeh libraries aapke dost hain.\n",
    "\n",
    "All the best! Phir milenge! 👋"
   ]
  }
 ],
 "metadata": {
  "kernelspec": {
   "display_name": "Python 3",
   "language": "python",
   "name": "python3"
  },
  "language_info": {
   "codemirror_mode": {
    "name": "ipython",
    "version": 3
   },
   "file_extension": ".py",
   "mimetype": "text/x-python",
   "name": "python",
   "nbconvert_exporter": "python",
   "pygments_lexer": "ipython3",
   "version": "3.12.3"
  }
 },
 "nbformat": 4,
 "nbformat_minor": 2
}