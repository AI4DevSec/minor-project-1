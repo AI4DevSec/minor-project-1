{
 "cells": [
  {
   "cell_type": "markdown",
   "metadata": {},
   "source": [
    "Namaste nanhe data scientists! 👋\n",
    "\n",
    "Toh socho, aapko ek jaadu sikhna hai jisse aap computer ko bata sako ki kaunsa flower kis type ka hai? 🌱🌺 Hamare paas flowers ki measurements hain, aur hum computer ko sikhayenge ki in measurements se pehchane ki woh **Iris** flower kaunsi family ka hai - jaise Iris-setosa, Iris-versicolor, ya Iris-virginica. Yeh bilkul aise hai jaise aapko alag alag types ki chocolates pehchanni ho unke wrapper ke size aur shape se!\n",
    "\n",
    "Yeh jo hum computer ko sikhate hain data se, isko **Machine Learning** kehte hain. Aur aaj hum ek simple Machine Learning 'robot' banayenge jiska naam hai **Decision Tree** (decision tree matlab 'faisle lene wala ped'!). Yeh robot kuch sawalon ke jawab dekar pata lagata hai ki flower kaunsa hai.\n",
    "\n",
    "Chalo, shuru karte hain yeh mazedaar safar! 😊🚀"
   ]
  },
  {
   "cell_type": "markdown",
   "metadata": {},
   "source": [
    "### 📚 Hamare Ebook Ka Safar (Table of Contents)\n",
    "\n",
    "1.  **Introduction:** Machine Learning, Decision Trees, aur hamare Iris Flowers 🌸\n",
    "2.  **Step 1: Apna Toolkit Ready Karna** 🛠️ (Importing Libraries)\n",
    "3.  **Step 2: Apne Data Se Milna** 👋 (Loading Data)\n",
    "4.  **Step 3: Data Ko Thoda Aur Samajhna** 🤔 (Checking Info, Nulls, Duplicates, Describe)\n",
    "5.  **Step 4: Hamara Target Kya Hai?** 🎯 (Understanding Species)\n",
    "6.  **Step 5: Data Ki Safai Shuru!** ✨ (Dropping Unnecessary Columns)\n",
    "7.  **Step 6: Data Ki Rangoli Banana** 🎨 (Visualizations)\n",
    "8.  **Step 7: Shararti Numbers Ko Samajhna aur Theek Karna** 🧐 (Outlier Handling)\n",
    "9.  **Step 8: Robot Training Ke Liye Taiyari** 🤝 (Splitting Data)\n",
    "10. **Step 9: Hamara Decision Tree Robot Banana** 🤖🌲 (Creating the Model)\n",
    "11. **Step 10: Robot Ko Sikhana** 👨‍🏫 (Training the Model)\n",
    "12. **Step 11: Robot Ka Test Lena** ✅ (Making Predictions)\n",
    "13. **Step 12: Dekhte Hain Robot Ne Kaisa Kiya Test?** 👍 (Evaluating Performance - Accuracy & Confusion Matrix)\n",
    "14. **Step 13: Robot Ka Brain Kaisa Dikhta Hai?** 🧠📊 (Plotting the Decision Tree)\n",
    "15. **Step 14: Robot Ke Liye Sabse Important Clues Kya The?** 💡 (Feature Importance)\n",
    "16. **Diagrams/Image Suggestions** 🖼️\n",
    "17. **Glossary: Naye Shabdon Ka Matlab** 📖\n",
    "18. **Summary: Aaj Kya Seekha?** 🎉"
   ]
  },
  {
   "cell_type": "markdown",
   "metadata": {},
   "source": [
    "---"
   ]
  },
  {
   "cell_type": "markdown",
   "metadata": {},
   "source": [
    "### 1. Introduction: Machine Learning, Decision Trees, aur hamare Iris Flowers 🌸\n",
    "\n",
    "Socho, aapke paas ek game hai jismein aapko alag alag animals ki photos dekh kar unka naam batana hai. Pehle aapko koi bada batata hai ki \"Yeh billi hai,\" \"Yeh kutta hai,\" wagera. Dheere dheere, aap photo dekh kar khud hi pehchan lete ho! Yeh hai insaani dimag ka 'seekhna'.\n",
    "\n",
    "Machine Learning bhi kuch aisa hi hai. Hum computer ko **data** (jaise animals ki photos aur unke naam) dete hain, aur computer us data se **seekhta** pattern pehchanna. Jaise hum flowers ki measurements se unka type pehchanana sikhenge.\n",
    "\n",
    "Hamara **Decision Tree** robot ek flowchart ki tarah kaam karta hai. Jaise aap koi game khelte ho jahan sawalon ke jawab de kar aage badhte ho (Kya animal ke paas pankh hain? Agar haan, toh kya woh ud sakta hai?), Decision Tree robot bhi flowers ki measurements par based sawalon ke jawab dekar decide karta hai ki flower kaunsa hai.\n",
    "\n",
    "Hamara data famous **Iris flower dataset** hai. Ismein teen tarah ke Iris flowers ki measurements hain: Sepal Length, Sepal Width, Petal Length, aur Petal Width. Sepal aur Petal flowers ke parts hote hain (neeche image suggestion mein dikhaya hai).\n",
    "\n",
    "Chalo, ab code likhna shuru karte hain!"
   ]
  },
  {
   "cell_type": "markdown",
   "metadata": {},
   "source": [
    "---"
   ]
  },
  {
   "cell_type": "markdown",
   "metadata": {},
   "source": [
    "### 2. Step 1: Apna Toolkit Ready Karna 🛠️"
   ]
  },
  {
   "cell_type": "markdown",
   "metadata": {},
   "source": [
    "Koi bhi kaam shuru karne se pehle, humein sahi tools ki zarurat hoti hai, right? Programming mein, yeh tools **libraries** kehlati hain. Yeh pehle se likha hua code hota hai jo hamara kaam aasan kar deta hai.\n",
    "\n",
    "Hum kuch important libraries import karenge:\n",
    "\n",
    "*   `pandas`: Yeh data ko ek smart table (jisko **DataFrame** kehte hain) mein manage karne ke liye hai. Socho jaise excel sheet, but code mein!\n",
    "*   `numpy`: Yeh numbers ke saath speed mein calculations karne mein help karta hai.\n",
    "*   `matplotlib.pyplot` aur `seaborn`: Yeh hamare data ki sundar pictures (graphs) banane ke liye hain. Pictures se data ko samajhna bahut aasan ho jaata hai!"
   ]
  },
  {
   "cell_type": "code",
   "execution_count": null,
   "metadata": {},
   "outputs": [],
   "source": [
    "import pandas as pd\n",
    "import numpy as np\n",
    "import matplotlib.pyplot as plt\n",
    "import seaborn as sns"
   ]
  },
  {
   "cell_type": "markdown",
   "metadata": {},
   "source": [
    "*   **Explanation:** Humne apne zaruri toolkits (`pandas`, `numpy`, `matplotlib.pyplot`, `seaborn`) ko apne code mein bula liya hai aur unko chote naam (`pd`, `np`, `plt`, `sns`) diye hain taki likhne mein aasan ho. Ab hum in tools ko use kar sakte hain."
   ]
  },
  {
   "cell_type": "markdown",
   "metadata": {},
   "source": [
    "---"
   ]
  },
  {
   "cell_type": "markdown",
   "metadata": {},
   "source": [
    "### 3. Step 2: Apne Data Se Milna 👋"
   ]
  },
  {
   "cell_type": "markdown",
   "metadata": {},
   "source": [
    "Ab jab hamare paas tools hain, toh chalo apne Iris flower data ko load karte hain. Hamara data ek file mein hai jiska naam `data.csv` hai. `csv` file ek simple text file hoti hai jismein data comma se alag kiya hota hai, jaise `naam,umar,sheher`.\n",
    "\n",
    "Hum `pandas` library ki help se is file ko load karenge."
   ]
  },
  {
   "cell_type": "code",
   "execution_count": null,
   "metadata": {},
   "outputs": [],
   "source": [
    "df = pd.read_csv(\"../artifacts/raw/data.csv\")"
   ]
  },
  {
   "cell_type": "markdown",
   "metadata": {},
   "source": [
    "*   **Explanation:** Is line se humne `../artifacts/raw/data.csv` path par padi hui file ko padha aur uske data ko ek **DataFrame** mein store kar liya. Humne us DataFrame ka naam `df` rakha hai. Socho, `df` ab hamari smart table hai jismein Iris flowers ka sara data hai!"
   ]
  },
  {
   "cell_type": "markdown",
   "metadata": {},
   "source": [
    "---"
   ]
  },
  {
   "cell_type": "markdown",
   "metadata": {},
   "source": [
    "### 4. Step 3: Data Ko Thoda Aur Samajhna 🤔"
   ]
  },
  {
   "cell_type": "markdown",
   "metadata": {},
   "source": [
    "Jab aap koi nayi storybook padhte ho, toh pehle uska cover dekhte ho, fir pehle kuch pages, aur phir dekhte ho ki kahani mein kya-kya hai, koi pages fate ya missing toh nahi? Waise hi hum apne data ko samajhne ke liye kuch commands use karenge.\n",
    "\n",
    "*   `df.head()`: Table ki pehli 5 rows dikhata hai.\n",
    "*   `df.info()`: Batata hai ki kitne columns hain, har column mein kitni values hain, aur woh kis type ki values hain (numbers, text wagera).\n",
    "*   `df.isnull().sum()`: Batata hai ki kis column mein kitni missing values hain. Missing value matlab wahan data likha hi nahi hai.\n",
    "*   `df.duplicated().sum()`: Batata hai ki koi puri row duplicate toh nahi hai. Duplicate row matlab same information do baar likhi ho.\n",
    "*   `df.describe()`: Yeh sirf number wale columns ka summary batata hai - jaise average value, sabse choti value, sabse badi value, wagera.\n",
    "\n",
    "Chalo inko dekhte hain:"
   ]
  },
  {
   "cell_type": "code",
   "execution_count": null,
   "metadata": {},
   "outputs": [],
   "source": [
    "df.head()"
   ]
  },
  {
   "cell_type": "markdown",
   "metadata": {},
   "source": [
    "*   **Explanation:** Is command se humne `df` (hamari smart table) ki pehli 5 rows dekhi. Isse humein ek idea mil jata hai ki data kaisa dikhta hai. Aap dekhoge ki columns ke naam kya hain aur data kis format mein hai."
   ]
  },
  {
   "cell_type": "code",
   "execution_count": null,
   "metadata": {},
   "outputs": [],
   "source": [
    "df.info()"
   ]
  },
  {
   "cell_type": "markdown",
   "metadata": {},
   "source": [
    "*   **Explanation:** `df.info()` se humein pata chalta hai ki hamari table mein kitne columns hain, har column mein kitne entries hain (agar numbers poore na hon toh missing values ka pata chal jata hai), aur data kis format mein hai (jaise number, text, wagera). Yeh ek quick summary hai data ke structure ka."
   ]
  },
  {
   "cell_type": "code",
   "execution_count": null,
   "metadata": {},
   "outputs": [],
   "source": [
    "df.isnull().sum()"
   ]
  },
  {
   "cell_type": "markdown",
   "metadata": {},
   "source": [
    "*   **Explanation:** `df.isnull().sum()` command har column mein check karta hai ki kitni values 'missing' hain (yaani blank chodi hui hain). Yeh result dikhata hai ki har column mein kitne `null` ya `NaN` values hain. Agar sab zero hain, toh badhiya, koi missing data nahi hai!"
   ]
  },
  {
   "cell_type": "code",
   "execution_count": null,
   "metadata": {},
   "outputs": [],
   "source": [
    "df.duplicated().sum()"
   ]
  },
  {
   "cell_type": "markdown",
   "metadata": {},
   "source": [
    "*   **Explanation:** Is command se hum check karte hain ki hamari poori table mein koi row exactly do baar toh nahi likhi hui. Agar result zero aata hai, matlab koi duplicate rows nahi hain. Duplicate data se hamare robot ki training kharab ho sakti hai."
   ]
  },
  {
   "cell_type": "code",
   "execution_count": null,
   "metadata": {},
   "outputs": [],
   "source": [
    "df.describe()"
   ]
  },
  {
   "cell_type": "markdown",
   "metadata": {},
   "source": [
    "*   **Explanation:** `df.describe()` command sirf un columns ka summary statistical data deta hai jismein numbers hain (jaise Sepal Length, Petal Width). Yeh average value (mean), beech ki value (median), sabse choti (min), sabse badi (max), aur data kaise spread hai (standard deviation) batata hai. Yeh numbers se hamare data ka general idea mil jata hai."
   ]
  },
  {
   "cell_type": "markdown",
   "metadata": {},
   "source": [
    "---"
   ]
  },
  {
   "cell_type": "markdown",
   "metadata": {},
   "source": [
    "### 5. Step 4: Hamara Target Kya Hai? 🎯"
   ]
  },
  {
   "cell_type": "markdown",
   "metadata": {},
   "source": [
    "Humara goal kya hai? Flowers ki **Species** pehchanna. Toh humein dekhna chahiye ki hamare paas kaun kaunsi species hain aur woh kitni kitni hain data mein."
   ]
  },
  {
   "cell_type": "code",
   "execution_count": null,
   "metadata": {},
   "outputs": [],
   "source": [
    "df[\"Species\"].value_counts()"
   ]
  },
  {
   "cell_type": "markdown",
   "metadata": {},
   "source": [
    "*   **Explanation:** Yeh command `Species` column mein check karta hai ki kaun kaunsi alag alag tarah ki entries hain (hamare case mein flower types) aur har type kitni baar aaya hai. Yeh count hamein batata hai ki hamare data mein kitne flowers kis category ke hain. Yeh machine learning mein bahut important hota hai, taki pata chale ki hamare target classes balanced hain ya nahi."
   ]
  },
  {
   "cell_type": "markdown",
   "metadata": {},
   "source": [
    "---"
   ]
  },
  {
   "cell_type": "markdown",
   "metadata": {},
   "source": [
    "### 6. Step 5: Data Ki Safai Shuru! ✨"
   ]
  },
  {
   "cell_type": "markdown",
   "metadata": {},
   "source": [
    "Hamare data mein ek `Id` column bhi hai. Socho, yeh bas har row ka ek number hai, jaise page number. Kya page number se aap kahani samajh sakte ho? Nahi na! Waise hi, `Id` number se hamara robot flower ki type nahi pehchan sakta. Toh, isko hata dete hain taki robot confusion na ho."
   ]
  },
  {
   "cell_type": "code",
   "execution_count": null,
   "metadata": {},
   "outputs": [],
   "source": [
    "df.drop(\"Id\" , axis=1 ,inplace=True)"
   ]
  },
  {
   "cell_type": "markdown",
   "metadata": {},
   "source": [
    "*   **Explanation:** `df.drop(\"Id\", axis=1, inplace=True)` command se humne `Id` naam ka column hata diya. `axis=1` matlab 'column hatao' (agar `axis=0` hota toh row hatate). `inplace=True` matlab ye change seedha hamari `df` table mein kar do, alag se nayi table banane ki zarurat nahi. Ab hamare data mein woh unnecessary `Id` column nahi hai."
   ]
  },
  {
   "cell_type": "markdown",
   "metadata": {},
   "source": [
    "Ab phir se `head()` dekhte hain change dekhne ke liye:"
   ]
  },
  {
   "cell_type": "code",
   "execution_count": null,
   "metadata": {},
   "outputs": [],
   "source": [
    "df.head()"
   ]
  },
  {
   "cell_type": "markdown",
   "metadata": {},
   "source": [
    "*   **Explanation:** `head()` ko phir se run karke hum confirm kar rahe hain ki `Id` column sach mein hat gaya hai hamari table se. Ab table clean lag rahi hai!"
   ]
  },
  {
   "cell_type": "markdown",
   "metadata": {},
   "source": [
    "---"
   ]
  },
  {
   "cell_type": "markdown",
   "metadata": {},
   "source": [
    "### 7. Step 6: Data Ki Rangoli Banana 🎨"
   ]
  },
  {
   "cell_type": "markdown",
   "metadata": {},
   "source": [
    "Visualizations matlab data ki pictures banana. Pictures se data ke patterns, relationships, aur problems (jaise outliers) bahut jaldi samajh aa jaate hain. Jaise drawing dekh kar kahani samajhna kitna easy hota hai!"
   ]
  },
  {
   "cell_type": "markdown",
   "metadata": {},
   "source": [
    "Hum do tarah ki pictures banayenge:\n",
    "\n",
    "*   **Pairplot:** Yeh har do number wale columns ke beech ka graph banata hai aur colors se species ko alag dikhata hai. Isse pata chalta hai ki kaunse measurements kis species ko alag karne mein helpful hain.\n",
    "*   **Boxplot:** Yeh har column ke data ka spread dikhata hai. Isse **outliers** (bahut alag numbers) ka pata chalta hai jo baaki data se bahar hain. Socho, aapke sare dost 1 meter ke hain aur ek dost 3 meter ka, woh 3 meter wala outlier hua!"
   ]
  },
  {
   "cell_type": "code",
   "execution_count": null,
   "metadata": {},
   "outputs": [],
   "source": [
    "sns.pairplot(df , hue=\"Species\")\n",
    "plt.show()"
   ]
  },
  {
   "cell_type": "markdown",
   "metadata": {},
   "source": [
    "*   **Explanation:** Yeh `pairplot` command hamare `df` table ke sabhi number wale columns ka ek grid of scatter plots banata hai. `hue=\"Species\"` bolta hai ki data points ko unki flower species ke hisaab se color karo. `plt.show()` graph ko screen par dikhata hai. Yeh graph dekh kar pata chalta hai ki kaunse features (measurements) milkar species ko alag karne mein helpful hain. Jaise Petal Length aur Petal Width se species kaafi clear alag dikhti hain!\n",
    "    **(Suggest Image 1: A colorful Pairplot of the Iris dataset, showing separation by species based on Petal Length/Width)**"
   ]
  },
  {
   "cell_type": "code",
   "execution_count": null,
   "metadata": {},
   "outputs": [],
   "source": [
    "sns.boxplot(data=df , orient=\"h\")\n",
    "plt.show()"
   ]
  },
  {
   "cell_type": "markdown",
   "metadata": {},
   "source": [
    "*   **Explanation:** `sns.boxplot` command hamare `df` table ke number wale columns ka boxplot banata hai. `orient=\"h\"` bolta hai ki boxes horizontally banao. Boxplots har feature ke liye data ka distribution (middle point, spread, aur outliers) dikhate hain. Yeh hamari data ki health checkup hai!\n",
    "    **(Suggest Image 2: Horizontal boxplots for Sepal Length, Sepal Width, Petal Length, and Petal Width, possibly showing dots outside the 'whiskers' which represent potential outliers)**"
   ]
  },
  {
   "cell_type": "markdown",
   "metadata": {},
   "source": [
    "---"
   ]
  },
  {
   "cell_type": "markdown",
   "metadata": {},
   "source": [
    "### 8. Step 7: Shararti Numbers Ko Samajhna aur Theek Karna 🧐"
   ]
  },
  {
   "cell_type": "markdown",
   "metadata": {},
   "source": [
    "Boxplot dekh kar humein pata chala hoga ki `SepalWidthCm` column mein kuch **outliers** hain. Yeh woh numbers hain jo baaki values se bahut alag hain, jaise us 3 meter ke dost ki kahani! Outliers hamare robot ko confusion create kar sakte hain, isliye hum inko theek karenge."
   ]
  },
  {
   "cell_type": "markdown",
   "metadata": {},
   "source": [
    "Outliers find karne ka ek common tareeka hai **IQR (Interquartile Range)** use karna.\n",
    "\n",
    "*   `Q1` (Quartile 1) data ka woh point hai jahan 25% data usse kam hai.\n",
    "*   `Q3` (Quartile 3) data ka woh point hai jahan 75% data usse kam hai.\n",
    "*   `IQR` = `Q3` - `Q1` (yeh beech ke 50% data ka range hai).\n",
    "*   Outliers usually `Q1 - 1.5*IQR` se kam ya `Q3 + 1.5*IQR` se zyada hote hain.\n",
    "\n",
    "Hum inn outliers ko data ke **median** (beech ki value) se replace kar denge. Socho, agar ek number galat likh gaya hai, toh usko average ya beech ke number se badal diya, taki woh theek lage."
   ]
  },
  {
   "cell_type": "markdown",
   "metadata": {},
   "source": [
    "Pehle boxplot dekhte hain SepalWidthCm ka outliers ke saath:"
   ]
  },
  {
   "cell_type": "code",
   "execution_count": null,
   "metadata": {},
   "outputs": [],
   "source": [
    "sns.boxplot(df[\"SepalWidthCm\"])\n",
    "plt.title(\"Before Outlier Imputation\")\n",
    "plt.show()"
   ]
  },
  {
   "cell_type": "markdown",
   "metadata": {},
   "source": [
    "*   **Explanation:** Yeh sirf `SepalWidthCm` column ka boxplot hai. Aapko box ke upar ya neeche dots dikhenge, woh hain hamare potential outliers. Yeh boxplot hamari 'before' picture hai outlier handling ki.\n",
    "    **(Suggest Image 3: A vertical boxplot specifically for SepalWidthCm, clearly showing dots (outliers) above or below the main box/whiskers)**"
   ]
  },
  {
   "cell_type": "markdown",
   "metadata": {},
   "source": [
    "Ab code jo outliers ko find karke replace karega:"
   ]
  },
  {
   "cell_type": "code",
   "execution_count": null,
   "metadata": {},
   "outputs": [],
   "source": [
    "Q1 = df[\"SepalWidthCm\"].quantile(0.25)\n",
    "Q3 = df[\"SepalWidthCm\"].quantile(0.75)\n",
    "\n",
    "IQR = Q3 - Q1\n",
    "\n",
    "# Lower aur Upper boundaries jinke bahar ke numbers outlier hain\n",
    "Lower_value = Q1 - 1.5 * IQR\n",
    "Upper_value = Q3 + 1.5 * IQR\n",
    "\n",
    "# Jis value se hum outliers ko replace karenge (median)\n",
    "sepal_median = np.median(df[\"SepalWidthCm\"])"
   ]
  },
  {
   "cell_type": "markdown",
   "metadata": {},
   "source": [
    "*   **Explanation:** Is code mein humne `SepalWidthCm` column ka `Q1`, `Q3`, aur `IQR` calculate kiya. Phir humne woh limits nikali jinke bahar ke numbers ko hum outlier maanege (`Lower_value`, `Upper_value`). Last mein, humne is column ka `median` value store kiya."
   ]
  },
  {
   "cell_type": "code",
   "execution_count": null,
   "metadata": {},
   "outputs": [],
   "source": [
    "sepal_median"
   ]
  },
  {
   "cell_type": "markdown",
   "metadata": {},
   "source": [
    "*   **Explanation:** Yeh line median value ko print karegi, taki humein pata chale ki hum kis number se outliers ko replace karne wale hain."
   ]
  },
  {
   "cell_type": "markdown",
   "metadata": {},
   "source": [
    "Ab outliers ko replace karne wala code:"
   ]
  },
  {
   "cell_type": "code",
   "execution_count": null,
   "metadata": {},
   "outputs": [],
   "source": [
    "for i in df[\"SepalWidthCm\"]:\n",
    "    if i > Upper_value or i < Lower_value:\n",
    "        df[\"SepalWidthCm\"] = df[\"SepalWidthCm\"].replace(i, sepal_median)"
   ]
  },
  {
   "cell_type": "markdown",
   "metadata": {},
   "source": [
    "*   **Explanation:** Yeh ek loop hai jo `SepalWidthCm` column ke har number (`i`) ko check karta hai. Agar woh number `Upper_value` se zyada hai ya `Lower_value` se kam hai (matlab outlier hai), toh us number ko `sepal_median` se replace kar diya jata hai. Ab `SepalWidthCm` column mein woh extreme values nahi rahengi."
   ]
  },
  {
   "cell_type": "markdown",
   "metadata": {},
   "source": [
    "Outlier handling ke baad boxplot phir se dekhte hain:"
   ]
  },
  {
   "cell_type": "code",
   "execution_count": null,
   "metadata": {},
   "outputs": [],
   "source": [
    "sns.boxplot(df[\"SepalWidthCm\"])\n",
    "plt.title(\"After Outlier Imputation\")\n",
    "plt.show()"
   ]
  },
  {
   "cell_type": "markdown",
   "metadata": {},
   "source": [
    "*   **Explanation:** Yeh boxplot hamari 'after' picture hai. Ab dekho, woh shararti outlier dots shayad gayab ho gaye honge ya kam ho gaye honge! Hamara data ab thoda aur clean ho gaya hai robot ko sikhane ke liye.\n",
    "    **(Suggest Image 4: A vertical boxplot specifically for SepalWidthCm *after* outlier replacement, showing fewer or no dots outside the whiskers)**"
   ]
  },
  {
   "cell_type": "markdown",
   "metadata": {},
   "source": [
    "---"
   ]
  },
  {
   "cell_type": "markdown",
   "metadata": {},
   "source": [
    "### 9. Step 8: Robot Training Ke Liye Taiyari 🤝"
   ]
  },
  {
   "cell_type": "markdown",
   "metadata": {},
   "source": [
    "Socho, aapke school mein exam hai. Aap teachers ke diye hue examples aur exercises se practice karte ho (yeh hai **training data**). Fir exam mein aapko naye questions milte hain jo aapne pehle nahi dekhe (yeh hai **testing data**). Teacher check karte hain ki aapne practice se kitna seekha aur naye questions ko kitna sahi solve kiya."
   ]
  },
  {
   "cell_type": "markdown",
   "metadata": {},
   "source": [
    "Machine Learning mein bhi yahi karte hain. Hum data ko do parts mein baant dete hain:\n",
    "1.  **Training Data:** Robot isse seekhega.\n",
    "2.  **Testing Data:** Robot ko check karne ke liye ki woh naye data par kaisa perform karta hai."
   ]
  },
  {
   "cell_type": "markdown",
   "metadata": {},
   "source": [
    "Hum data ko features (`X`) aur target (`Y`) mein bhi alag karenge. Features woh inputs hain (measurements like lengths and widths) aur target woh output hai jo hum predict karna chahte hain (Species)."
   ]
  },
  {
   "cell_type": "code",
   "execution_count": null,
   "metadata": {},
   "outputs": [],
   "source": [
    "X = df[['SepalLengthCm', 'SepalWidthCm', 'PetalLengthCm', 'PetalWidthCm']] # Yeh features hain jisse hum predict karenge\n",
    "Y = df[\"Species\"] # Yeh hamara target hai, jo predict karna hai"
   ]
  },
  {
   "cell_type": "markdown",
   "metadata": {},
   "source": [
    "*   **Explanation:** Humne hamari `df` table se `X` (features) aur `Y` (target) ko alag kiya. `X` mein saari measurement columns hain aur `Y` mein `Species` column hai. Ab hamare paas inputs aur outputs alag alag variables mein hain."
   ]
  },
  {
   "cell_type": "markdown",
   "metadata": {},
   "source": [
    "Ab data ko train aur test mein baantne ka code:"
   ]
  },
  {
   "cell_type": "code",
   "execution_count": null,
   "metadata": {},
   "outputs": [],
   "source": [
    "from sklearn.model_selection import train_test_split"
   ]
  },
  {
   "cell_type": "markdown",
   "metadata": {},
   "source": [
    "*   **Explanation:** Humne `sklearn` library se `train_test_split` tool import kiya. `sklearn` Machine Learning ke liye bahut powerful toolkit hai Python mein."
   ]
  },
  {
   "cell_type": "code",
   "execution_count": null,
   "metadata": {},
   "outputs": [],
   "source": [
    "X_train,X_test,y_train,y_test = train_test_split(X,Y , test_size=0.2 , random_state=42)"
   ]
  },
  {
   "cell_type": "markdown",
   "metadata": {},
   "source": [
    "*   **Explanation:** Yeh command hamare `X` aur `Y` data ko 4 parts mein divide karta hai:\n",
    "    *   `X_train`: Training features (80%)\n",
    "    *   `X_test`: Testing features (20%)\n",
    "    *   `y_train`: Training targets (80%) - inke answers robot ko training mein milenge\n",
    "    *   `y_test`: Testing targets (20%) - inke answers hum chipa kar rakhenge robot ka test lene ke liye.\n",
    "    `test_size=0.2` matlab 20% data testing ke liye use hoga (toh 80% training ke liye). `random_state=42` ek seed hai, isko set karne se har baar jab aap code run karoge, data same tarah se split hoga, taki results compare kar sako. Socho jaise lotto number pick karne se pehle ek fixed pattern use kiya."
   ]
  },
  {
   "cell_type": "markdown",
   "metadata": {},
   "source": [
    "---"
   ]
  },
  {
   "cell_type": "markdown",
   "metadata": {},
   "source": [
    "### 10. Step 9: Hamara Decision Tree Robot Banana 🤖🌲"
   ]
  },
  {
   "cell_type": "markdown",
   "metadata": {},
   "source": [
    "Ab time hai hamare Decision Tree robot ko banane ka! Hum `sklearn` library se isko banayenge."
   ]
  },
  {
   "cell_type": "code",
   "execution_count": null,
   "metadata": {},
   "outputs": [],
   "source": [
    "from sklearn.tree import DecisionTreeClassifier,plot_tree\n",
    "from sklearn.metrics import accuracy_score,confusion_matrix"
   ]
  },
  {
   "cell_type": "markdown",
   "metadata": {},
   "source": [
    "*   **Explanation:** Humne `sklearn.tree` se `DecisionTreeClassifier` (Decision Tree robot banane ke liye) aur `plot_tree` (robot ka brain dekhne ke liye) import kiya. Aur `sklearn.metrics` se `accuracy_score` aur `confusion_matrix` import kiya jo robot ka test lene mein help karenge."
   ]
  },
  {
   "cell_type": "code",
   "execution_count": null,
   "metadata": {},
   "outputs": [],
   "source": [
    "tree_clf = DecisionTreeClassifier(criterion=\"gini\" , max_depth=30 , random_state=42)"
   ]
  },
  {
   "cell_type": "markdown",
   "metadata": {},
   "source": [
    "*   **Explanation:** Is line se humne ek Decision Tree robot (`tree_clf`) create kiya hai.\n",
    "    *   `criterion=\"gini\"`: Yeh batata hai ki robot ko decision lene ke liye kaunsa formula use karna hai. 'gini' ek popular choice hai.\n",
    "    *   `max_depth=30`: Yeh batata hai ki robot kitne levels tak ke sawal pooch sakta hai (kitna gehra soch sakta hai). Zyada depth matlab zyada complex decisions le sakta hai, par kabhi kabhi confusion bhi badh sakti hai.\n",
    "    *   `random_state=42`: Phir se, yeh seed hai taki robot har baar same tarah se bane."
   ]
  },
  {
   "cell_type": "markdown",
   "metadata": {},
   "source": [
    "---"
   ]
  },
  {
   "cell_type": "markdown",
   "metadata": {},
   "source": [
    "### 11. Step 10: Robot Ko Sikhana 👨‍🏫"
   ]
  },
  {
   "cell_type": "markdown",
   "metadata": {},
   "source": [
    "Robot ab ready hai. Ab isko sikhate hain train data se! Jaise teacher student ko padhata hai."
   ]
  },
  {
   "cell_type": "code",
   "execution_count": null,
   "metadata": {},
   "outputs": [],
   "source": [
    "tree_clf.fit(X_train,y_train)"
   ]
  },
  {
   "cell_type": "markdown",
   "metadata": {},
   "source": [
    "*   **Explanation:** `tree_clf.fit(X_train, y_train)` command hamare Decision Tree robot (`tree_clf`) ko `X_train` features aur unke corresponding `y_train` answers se sikhata hai. Robot `X_train` data ke patterns ko analyse karta hai aur learn karta hai ki kaunse features kis `Species` se relate karte hain. Training process mein robot apne decision rules banata hai. Ab hamara robot intelligent ho raha hai! 💪"
   ]
  },
  {
   "cell_type": "markdown",
   "metadata": {},
   "source": [
    "---"
   ]
  },
  {
   "cell_type": "markdown",
   "metadata": {},
   "source": [
    "### 12. Step 11: Robot Ka Test Lena ✅"
   ]
  },
  {
   "cell_type": "markdown",
   "metadata": {},
   "source": [
    "Robot seekh gaya! Ab time hai test lene ka. Hum robot ko `X_test` data denge (woh measurements jinke answers usne training mein nahi dekhe) aur usse predict karwayenge ki uske hisaab se flower ka species kya hona chahiye."
   ]
  },
  {
   "cell_type": "code",
   "execution_count": null,
   "metadata": {},
   "outputs": [],
   "source": [
    "y_pred = tree_clf.predict(X_test)"
   ]
  },
  {
   "cell_type": "markdown",
   "metadata": {},
   "source": [
    "*   **Explanation:** `tree_clf.predict(X_test)` command trained robot se `X_test` data par predictions karwata hai. Robot apne sikhe hue rules use karke har row ke features dekhta hai aur predict karta hai ki us flower ki `Species` kya hogi. Predictions ek list mein store ho jati hain jiska naam humne `y_pred` rakha hai."
   ]
  },
  {
   "cell_type": "code",
   "execution_count": null,
   "metadata": {},
   "outputs": [],
   "source": [
    "y_pred"
   ]
  },
  {
   "cell_type": "markdown",
   "metadata": {},
   "source": [
    "*   **Explanation:** Yeh line `y_pred` list ko print karti hai. Yahan aap robot ke saare predictions dekh sakte ho test data ke liye. Yeh woh answers hain jo robot ne test mein diye hain."
   ]
  },
  {
   "cell_type": "markdown",
   "metadata": {},
   "source": [
    "---"
   ]
  },
  {
   "cell_type": "markdown",
   "metadata": {},
   "source": [
    "### 13. Step 12: Dekhte Hain Robot Ne Kaisa Kiya Test? 👍"
   ]
  },
  {
   "cell_type": "markdown",
   "metadata": {},
   "source": [
    "Robot ne predictions de diye. Ab check karte hain ki kitne predictions sahi hain. Hum robot ke predictions (`y_pred`) ko asli answers (`y_test`) se compare karenge."
   ]
  },
  {
   "cell_type": "markdown",
   "metadata": {},
   "source": [
    "Hum do cheeze check karenge:\n",
    "*   **Accuracy:** Kitne percent predictions sahi the.\n",
    "*   **Confusion Matrix:** Ek table jo detail mein batati hai ki robot ne har species ko kitni baar sahi pehchana aur kitni baar galat."
   ]
  },
  {
   "cell_type": "code",
   "execution_count": null,
   "metadata": {},
   "outputs": [],
   "source": [
    "accuracy = accuracy_score(y_test , y_pred)"
   ]
  },
  {
   "cell_type": "markdown",
   "metadata": {},
   "source": [
    "*   **Explanation:** `accuracy_score(y_test, y_pred)` command asli answers (`y_test`) aur robot ke predictions (`y_pred`) ko compare karke batata hai ki kitne predictions correctly matched hue. Result ek number mein aata hai, usually 0 se 1 ke beech (1 matlab 100% correct)."
   ]
  },
  {
   "cell_type": "code",
   "execution_count": null,
   "metadata": {},
   "outputs": [],
   "source": [
    "accuracy"
   ]
  },
  {
   "cell_type": "markdown",
   "metadata": {},
   "source": [
    "*   **Explanation:** Yeh line calculate ki hui `accuracy` ko print karegi. Agar yeh 1.0 ke kareeb hai, matlab robot ne test mein bahut achha kiya! 😊"
   ]
  },
  {
   "cell_type": "code",
   "execution_count": null,
   "metadata": {},
   "outputs": [],
   "source": [
    "conf_matrix = confusion_matrix(y_test,y_pred)"
   ]
  },
  {
   "cell_type": "markdown",
   "metadata": {},
   "source": [
    "*   **Explanation:** `confusion_matrix(y_test, y_pred)` ek table banata hai jo dikhata hai ki har asli species (rows) ko robot ne kya predict kiya (columns). Jaise, agar row 'setosa' hai aur column 'setosa', wahan number batata hai ki kitni asli 'setosa' flowers ko robot ne sahi mein 'setosa' predict kiya. Agar row 'setosa' hai aur column 'versicolor', woh number batata hai ki kitni asli 'setosa' ko robot ne galti se 'versicolor' predict kar diya."
   ]
  },
  {
   "cell_type": "code",
   "execution_count": null,
   "metadata": {},
   "outputs": [],
   "source": [
    "conf_matrix"
   ]
  },
  {
   "cell_type": "markdown",
   "metadata": {},
   "source": [
    "*   **Explanation:** Yeh line calculate ki hui `conf_matrix` table print karegi. Is table ko padhna thoda confusing ho sakta hai shuru mein, isliye hum isko visualize karenge heatmap mein."
   ]
  },
  {
   "cell_type": "markdown",
   "metadata": {},
   "source": [
    "Ab confusion matrix ka beautiful picture (heatmap):"
   ]
  },
  {
   "cell_type": "code",
   "execution_count": null,
   "metadata": {},
   "outputs": [],
   "source": [
    "sns.heatmap(conf_matrix,annot=True , cmap=\"Blues\" , xticklabels=tree_clf.classes_ , yticklabels=tree_clf.classes_)\n",
    "plt.show()"
   ]
  },
  {
   "cell_type": "markdown",
   "metadata": {},
   "source": [
    "*   **Explanation:** `sns.heatmap` command `conf_matrix` table ka ek color-coded graph banata hai. `annot=True` se har box mein number likha aata hai. `cmap=\"Blues\"` color scheme set karta hai. `xticklabels` aur `yticklabels` se rows aur columns par flower species ke naam dikhte hain. Is heatmap mein, jo boxes dark blue hain matlab wahan zyada predictions hue. Ideally, diagonal (top-left to bottom-right) wale numbers high hone chahiye, matlab robot ne species ko sahi pehchana. Baaki boxes mein numbers kam hone chahiye.\n",
    "    **(Suggest Image 5: A heatmap of the confusion matrix with species names on axes and numbers in cells, showing high diagonal values and low off-diagonal values)**"
   ]
  },
  {
   "cell_type": "markdown",
   "metadata": {},
   "source": [
    "---"
   ]
  },
  {
   "cell_type": "markdown",
   "metadata": {},
   "source": [
    "### 14. Step 13: Robot Ka Brain Kaisa Dikhta Hai? 🧠📊"
   ]
  },
  {
   "cell_type": "markdown",
   "metadata": {},
   "source": [
    "Hamara Decision Tree robot decision kaise leta hai? Hum uske 'brain' ko visualize kar sakte hain! Yeh uski internal logic dikhata hai, jaise ek flowchart."
   ]
  },
  {
   "cell_type": "code",
   "execution_count": null,
   "metadata": {},
   "outputs": [],
   "source": [
    "plt.figure(figsize=(15,10)) # Graph ka size set karte hain taki bada dikhe\n",
    "plot_tree(tree_clf , filled=True , feature_names=X.columns , class_names=tree_clf.classes_)\n",
    "plt.show()"
   ]
  },
  {
   "cell_type": "markdown",
   "metadata": {},
   "source": [
    "*   **Explanation:** `plot_tree(tree_clf, ...)` command hamare trained Decision Tree robot (`tree_clf`) ka flowchart graph banata hai.\n",
    "    *   `figsize=(15,10)`: Graph ko thoda bada banata hai taki sab kuch clearly dikhe.\n",
    "    *   `filled=True`: Har box (node) ko color se fill karta hai based on the majority class in that node.\n",
    "    *   `feature_names=X.columns`: Boxes mein decision rules ke liye hamare features (SepalLengthCm, PetalWidthCm, etc.) ke naam use karta hai.\n",
    "    *   `class_names=tree_clf.classes_`: Last boxes (leaves) mein flower species ke naam dikhata hai.\n",
    "    Yeh graph dekh kar aap follow kar sakte ho ki kin measurements ke based par robot kya decision le raha hai. Ismein root node (sabse upar wala box) se shuru karke aap branches follow karke neeche leaf nodes (jahan final prediction hota hai) tak ja sakte ho.\n",
    "    **(Suggest Image 6: The Decision Tree plot, showing the flowchart with decision rules (like \"PetalLengthCm <= 2.45\"), impurity, samples, and class counts in each node)**"
   ]
  },
  {
   "cell_type": "markdown",
   "metadata": {},
   "source": [
    "---"
   ]
  },
  {
   "cell_type": "markdown",
   "metadata": {},
   "source": [
    "### 15. Step 14: Robot Ke Liye Sabse Important Clues Kya The? 💡"
   ]
  },
  {
   "cell_type": "markdown",
   "metadata": {},
   "source": [
    "Jab robot seekhta hai, woh pata lagata hai ki kaunsi measurement uske liye sabse zyada helpful thi species pehchanne mein. Yeh **feature importance** kehlata hai."
   ]
  },
  {
   "cell_type": "code",
   "execution_count": null,
   "metadata": {},
   "outputs": [],
   "source": [
    "tree_clf.feature_importances_"
   ]
  },
  {
   "cell_type": "markdown",
   "metadata": {},
   "source": [
    "*   **Explanation:** `tree_clf.feature_importances_` property ek list return karta hai jismein har feature (column) ki importance value hoti hai. Yeh numbers add hokar 1 bante hain. Jis feature ka number jitna bada hoga, woh robot ke decision ke liye utna hi important tha."
   ]
  },
  {
   "cell_type": "code",
   "execution_count": null,
   "metadata": {},
   "outputs": [],
   "source": [
    "X.columns"
   ]
  },
  {
   "cell_type": "markdown",
   "metadata": {},
   "source": [
    "*   **Explanation:** Yeh line hamare feature columns ke naam dikhati hai. Isko upar wale `feature_importances_` ke result ke saath match karke hum pata laga sakte hain ki kaunse feature ki importance kitni thi. Jaise agar pehla number bada hai, aur `X.columns` mein pehla naam 'SepalLengthCm' hai, toh matlab SepalLengthCm sabse important feature tha. Iris dataset mein aksar Petal measurements zyada important hote hain!"
   ]
  },
  {
   "cell_type": "markdown",
   "metadata": {},
   "source": [
    "---"
   ]
  },
  {
   "cell_type": "markdown",
   "metadata": {},
   "source": [
    "### 16. Diagrams/Image Suggestions 🖼️"
   ]
  },
  {
   "cell_type": "markdown",
   "metadata": {},
   "source": [
    "Yahan kuch ideas hain ki kahan aap visuals add kar sakte ho is ebook mein, jaisa upar har step mein suggest kiya hai:\n",
    "\n",
    "1.  **Image 1: Pairplot:** Ek colorful grid graph jo dikhata hai ki har measurement pair ke beech kya relation hai, aur kaise Petal length/width species ko alag karte hain। `sns.pairplot(df, hue=\"Species\")` ka output।\n",
    "2.  **Image 2: Boxplot of all features:** Horizontal boxplots charon measurements ke liye। Dikhata hai ki har feature ka range aur spread kya hai, aur kahan outliers ho sakte hain। `sns.boxplot(data=df, orient=\"h\")` ka output।\n",
    "3.  **Image 3: SepalWidthCm Boxplot (Before):** Sirf SepalWidthCm ka vertical boxplot, clearly showing outlier dots। `sns.boxplot(df[\"SepalWidthCm\"])` ka output before imputation।\n",
    "4.  **Image 4: SepalWidthCm Boxplot (After):** SepalWidthCm ka vertical boxplot outlier handling ke baad, showing fewer or no outlier dots। `sns.boxplot(df[\"SepalWidthCm\"])` ka output after imputation।\n",
    "5.  **Image 5: Confusion Matrix Heatmap:** A color-coded table (heatmap) showing how many flowers of each species were correctly and incorrectly predicted by the robot। `sns.heatmap(...)` का output।\n",
    "6.  **Image 6: Decision Tree Plot:** The flowchart structure of the trained robot, showing the decision rules at each step। `plot_tree(...)` का output।\n",
    "7.  **(Optional) Image 7: Diagram of an Iris Flower:** A simple drawing showing the Sepal and Petal parts of a flower to help understand the features।"
   ]
  },
  {
   "cell_type": "markdown",
   "metadata": {},
   "source": [
    "---"
   ]
  },
  {
   "cell_type": "markdown",
   "metadata": {},
   "source": [
    "### 17. Glossary: Naye Shabdon Ka Matlab 📖"
   ]
  },
  {
   "cell_type": "markdown",
   "metadata": {},
   "source": [
    "Kuch naye aur important words jo humne aaj seekhe:\n",
    "\n",
    "*   **Machine Learning:** Computer ko data se seekhne ka jaadu. Jaise aap practice se koi game khelna seekhte ho.\n",
    "*   **Data:** Jankari ya information, jaise numbers, text, measurements. Hamare liye, yeh flowers ki measurements hain. Socho jaise ek storybook jismein saari jankari likhi hai.\n",
    "*   **DataFrame (`df`):** Data ko ek organised table format mein store karne ka tareeka Python mein (Pandas library use karke). Jaise ek smart excel sheet ya table notebook.\n",
    "*   **Libraries / Toolkits:** Pehle se likhe hue code ke packages jo hamara kaam aasan karte hain. Jaise drawing ke liye color box aur brushes.\n",
    "*   **Features (`X`):** Woh inputs ya measurements jisse hum kuch predict karte hain. Hamare liye, yeh Sepal aur Petal measurements hain. Socho jaise detective ke paas clues hote hain.\n",
    "*   **Target (`Y`):** Woh output jo hum predict karna chahte hain. Hamare liye, yeh flower ki `Species` hai. Socho jaise mystery ka answer jo detective ko ढूंढना है।\n",
    "*   **Outliers:** Data mein woh numbers jo baaki values se bahut alag hain. Jaise group mein ek bahut lamba insaan ya bahut chota. Shararti numbers!\n",
    "*   **Median:** Data ko order mein lagane par jo theek beech mein value aati hai.\n",
    "*   **Train/Test Split:** Data ko do hisson mein baantna - ek sikhane ke liye (Train) aur ek test karne ke liye (Test). Jaise exam ki practice aur fir exam.\n",
    "*   **Decision Tree:** Hamara Machine Learning robot jo flowchart ki tarah decisions lekar prediction karta hai. Jaise ek decision-making game.\n",
    "*   **Accuracy:** Robot ne test mein kitne percent predictions sahi kiye. Jaise aapke test mein kitne marks aaye.\n",
    "*   **Confusion Matrix:** Ek special table jo detail mein batati hai ki robot ne har category ko kitni baar sahi aur galat pehchana. Jaise teacher ki report card jo batati hai ki aapne har subject mein kaisa kiya.\n",
    "*   **Feature Importance:** Yeh batata hai ki kaunsa feature (measurement) robot ke liye prediction karne mein sabse zyada helpful tha. Jaise detective ke liye sabse important clue."
   ]
  },
  {
   "cell_type": "markdown",
   "metadata": {},
   "source": [
    "---"
   ]
  },
  {
   "cell_type": "markdown",
   "metadata": {},
   "source": [
    "### 18. Summary: Aaj Kya Seekha? 🎉"
   ]
  },
  {
   "cell_type": "markdown",
   "metadata": {},
   "source": [
    "Wow! Aapne aaj bahut kuch seekha aur khud ek Machine Learning robot banaya!\n",
    "\n",
    "Humne:\n",
    "✅ Zaruri tools (libraries) import kiye.\n",
    "✅ Apne Iris flower data ko load kiya.\n",
    "✅ Data ko ache se dekha aur samjha (missing values, duplicates, stats).\n",
    "✅ Data ki safai ki (unnecessary column hataya).\n",
    "✅ Data ki beautiful pictures (graphs) banayi problems aur patterns dekhne ke liye.\n",
    "✅ Shararti outlier numbers ko theek kiya `SepalWidthCm` column mein.\n",
    "✅ Data ko sikhane aur test karne ke liye divide kiya.\n",
    "✅ Apna Decision Tree robot banaya.\n",
    "✅ Robot ko data se sikhaya.\n",
    "✅ Robot ka test liya predictions karwa ke.\n",
    "✅ Dekha robot ka performance kaisa tha Accuracy aur Confusion Matrix se.\n",
    "✅ Robot ka 'brain' (Decision Tree) dekha ki woh kaise sochta hai.\n",
    "✅ Pata lagaya ki kaunse measurements robot ke liye sabse important the.\n",
    "\n",
    "Dekha, Machine Learning kitna mazedaar ho sakta hai? Aapne khud ek computer model banaya jo flowers ki type predict kar sakta hai!\n",
    "\n",
    "**Aage Kya Karein?**\n",
    "*   Is code ko baar baar run karke dekho.\n",
    "*   `max_depth` jaise settings change karke dekho Decision Tree mein aur dekho Accuracy par kya fark padta hai.\n",
    "*   Dusre columns ke outliers ko bhi theek karne ki koshish karo.\n",
    "*   Aur bhi simple datasets download karke un par yeh same steps follow karne ki koshish karo.\n",
    "*   `sklearn` library mein aur bhi robots (jaise K Nearest Neighbors, Support Vector Machines) explore karo!\n",
    "\n",
    "Bahut badhiya kaam kiya! Keep learning aur keep exploring! 😊👍"
   ]
  },
  {
   "cell_type": "code",
   "execution_count": null,
   "metadata": {},
   "outputs": [],
   "source": []
  }
 ],
 "metadata": {
  "kernelspec": {
   "display_name": "Python 3",
   "language": "python",
   "name": "python3"
  },
  "language_info": {
   "codemirror_mode": {
    "name": "ipython",
    "version": 3
   },
   "file_extension": ".py",
   "mimetype": "text/x-python",
   "name": "python",
   "nbconvert_exporter": "python",
   "pygments_lexer": "ipython3",
   "version": "3.9.7"
  }
 },
 "nbformat": 4,
 "nbformat_minor": 2
}